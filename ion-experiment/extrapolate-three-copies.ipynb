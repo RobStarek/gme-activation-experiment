{
 "cells": [
  {
   "cell_type": "markdown",
   "id": "b39af52d",
   "metadata": {},
   "source": [
    "# Use single-copy data to extrapolated GME activation of three copies.\n",
    "\n",
    "* The state is extrapolated using experimental single-copy (three-qubit) quantum state density matrices.\n",
    "* Based on this extrapolated state we simulate the witness measurement with given number of shots.\n",
    "* We evaluate mean and standard deviation of the obtained three-copy witness value."
   ]
  },
  {
   "cell_type": "code",
   "execution_count": 9,
   "id": "03945fbd",
   "metadata": {},
   "outputs": [],
   "source": [
    "# Import packages\n",
    "\n",
    "#builtins\n",
    "import itertools\n",
    "from functools import reduce, cache, partial\n",
    "\n",
    "#essentials\n",
    "import numpy as np\n",
    "import matplotlib.pyplot as plt\n",
    "import h5py #to open data packs\n",
    "import torch as tr\n",
    "\n",
    "#non-essentials\n",
    "from tqdm import tqdm # to show progressbars\n",
    "tqdm = partial(tqdm, position=0, leave=True)"
   ]
  },
  {
   "cell_type": "code",
   "execution_count": 10,
   "id": "4137033c",
   "metadata": {},
   "outputs": [],
   "source": [
    "# Quantum mechanics helper functions and constants\n",
    "# This has been in KetSugar.py, but it is moved here \n",
    "# for transparency.\n",
    "# ------------------------------------\n",
    "\n",
    "LO = np.array([[1],[0]])\n",
    "HI = np.array([[0],[1]])\n",
    "HLO = (LO+HI)*(2**-.5)\n",
    "HHI = (LO-HI)*(2**-.5)\n",
    "CLO = (LO+1j*HI)*(2**-.5)\n",
    "CHI = (LO-1j*HI)*(2**-.5)\n",
    "\n",
    "Sgate = np.array([[1, 0], [0, 1j]])\n",
    "SI = np.eye(2)\n",
    "SZ = np.diag([1,-1])\n",
    "SX = np.array([[0,1],[1,0]])\n",
    "SY = np.array([[0,-1j],[1j,0]])\n",
    "\n",
    "#eigenvectors and eigenvalues of Pauli matrices\n",
    "PAULI_EIGENBASE_DICT = {\n",
    "    'I' : ((LO, HI), (1,1)),\n",
    "    'X' : ((HLO, HHI), (1,-1)),\n",
    "    'Y' : ((CLO, CHI),(1,-1)),\n",
    "    'Z' : ((LO, HI), (1,-1)),\n",
    "}\n",
    "\n",
    "def dagger(x : np.ndarray) -> np.ndarray:\n",
    "    \"\"\"\n",
    "    Hermite conjugation of x.\n",
    "    \"\"\"\n",
    "    return x.T.conjugate()\n",
    "\n",
    "def ketbra(x : np.ndarray, y : np.ndarray) -> np.ndarray:\n",
    "    \"\"\"\n",
    "    Outer product of two ket-vectors -> C-matrix\n",
    "    \"\"\"\n",
    "    return np.dot(x, y.T.conjugate())\n",
    "\n",
    "def kron(*arrays) -> np.ndarray:\n",
    "    \"\"\"\n",
    "    Multiple Kronecker (tensor) product.\n",
    "    Multiplication is performed from left.    \n",
    "    \"\"\"\n",
    "    E = np.eye(1, dtype=complex)\n",
    "    for M in arrays:\n",
    "        E = np.kron(E,M)\n",
    "    return E\n",
    "\n",
    "def BinKet(i : int = 0,imx : int =1) -> np.ndarray:\n",
    "    \"\"\"\n",
    "    Computational base states i in imx+1-dimensional vectors.\n",
    "    \"\"\"\n",
    "    ket = np.zeros((imx+1,1), dtype=complex)\n",
    "    ket[i] = 1\n",
    "    return ket\n",
    "\n",
    "def ApplyOp(Rho : np.ndarray,M : np.ndarray) -> np.ndarray:\n",
    "    \"\"\"\n",
    "    Calculate M.Rho.dagger(M).\n",
    "    \"\"\"\n",
    "    return M @ Rho @ M.T.conjugate()\n",
    "\n",
    "def ExpectationValue(Ket : np.ndarray, M : np.ndarray) -> np.ndarray:\n",
    "    \"\"\"\n",
    "    Expectation value <bra|M|ket>.\n",
    "    \"\"\"\n",
    "    return (Ket.T.conjugate() @ M @ Ket)[0,0]\n",
    "\n",
    "@cache\n",
    "def get_walsh_hadamard_vec(label : str) -> np.ndarray:\n",
    "    \"\"\"\n",
    "    Get auxiliary vector for turning tomogram row into expectation value. Candidate for tabellation.\n",
    "    \"\"\"\n",
    "    #eigenvalues of Pauli operators\n",
    "    arr_map = {\n",
    "        'X' : np.array([1,-1]),\n",
    "        'Y' : np.array([1,-1]),\n",
    "        'Z' : np.array([1,-1]),\n",
    "        'I' : np.array([1,1])\n",
    "    }\n",
    "    return reduce(np.outer, [arr_map.get(c, np.eye(1)) for c in label]).ravel()\n",
    "get_walsh_hadamard_vec.cache_clear()\n",
    "\n",
    "@cache #cache calls to r\n",
    "def base_string_to_proj(string : str) -> list:\n",
    "    \"\"\"\n",
    "    Input measurement string and get projection operators corresponding to that string, \n",
    "    all combinations that can happen.    \n",
    "    \"\"\"    \n",
    "    eigenvects = [PAULI_EIGENBASE_DICT[b][0] for b in string]\n",
    "    proj_kets = [kron(*vecs) for i, vecs in enumerate(itertools.product(*eigenvects))]\n",
    "    return proj_kets\n",
    "base_string_to_proj.cache_clear()\n",
    "\n",
    "def get_probabilities(rho : np.ndarray, base_str : str) -> np.ndarray:\n",
    "    \"\"\"Input density matrix and measurement string, and get array of probabilities ordered from 0..0 to 1..1\"\"\"\n",
    "    #probs are ordered in increasing order of their binary representation\n",
    "    probs = np.array([ExpectationValue(ket, rho).real for ket in base_string_to_proj(base_str)])\n",
    "    return probs"
   ]
  },
  {
   "cell_type": "code",
   "execution_count": 14,
   "id": "75f1c24a",
   "metadata": {},
   "outputs": [],
   "source": [
    "# Define the states considered here\n",
    "# ---------------------------\n",
    "#Swap gates\n",
    "def swap_ij(n : int, i : int, j : int) -> np.ndarray:\n",
    "    \"\"\"Generate swap matrix of qubits i,j in n-qubit space.\"\"\"\n",
    "    left_qubits = i\n",
    "    central_qubits = (j - i) - 1\n",
    "    right_qubits = (n - j) - 1\n",
    "    eye_left = np.eye(1 << left_qubits)\n",
    "    eye_center = np.eye(1 << central_qubits)\n",
    "    eye_right = np.eye(1 << right_qubits)    \n",
    "    ket_01 = kron(eye_left, LO, eye_center, HI, eye_right)\n",
    "    ket_10 = kron(eye_left, HI, eye_center, LO, eye_right)\n",
    "    bra_01 = dagger(ket_01)\n",
    "    bra_10 = dagger(ket_10)\n",
    "    swap = np.eye(1 << n, dtype=complex) \\\n",
    "        - ket_01 @ bra_01 - ket_10 @ bra_10 \\\n",
    "        + ket_01 @ bra_10 + ket_10 @ bra_01\n",
    "    return swap\n",
    "\n",
    "#operator that does this swap: abcabc -> aabbcc\n",
    "swap_abc = swap_ij(6,3,4) @ swap_ij(6,1,2) @ swap_ij(6,2,3)\n",
    "\n",
    "prep_gate = kron(Sgate, Sgate, SZ)\n",
    "bellp = (BinKet(0b00, 3) + BinKet(0b11, 3))/np.sqrt(2)\n",
    "bellm = (BinKet(0b00, 3) - BinKet(0b11, 3))/np.sqrt(2)\n",
    "bell02p = (BinKet(0b000, 7) + BinKet(0b101, 7)+BinKet(0b010, 7) + BinKet(0b111, 7))/2\n",
    "bell02m = (BinKet(0b000, 7) - BinKet(0b101, 7)-BinKet(0b010, 7) + BinKet(0b111, 7))/2\n",
    "\n",
    "#single-copy constituent states as ket vectors\n",
    "theo_kets_3q = {\n",
    "    'a1' : kron(HLO, bellp),\n",
    "    'a2' : kron(HHI, bellm),\n",
    "    'a3' : prep_gate @ kron(HLO, bellp),\n",
    "    'a4' : prep_gate @ kron(HHI, bellm),\n",
    "    'b1' : bell02p,\n",
    "    'b2' : bell02m,\n",
    "    'b3' : prep_gate @ bell02p,\n",
    "    'b4' : prep_gate @ bell02m,\n",
    "    'c1' : BinKet(0b001, 7),\n",
    "    'c2' : BinKet(0b110, 7)\n",
    "}\n",
    "\n",
    "#single-copy constituent states as density matrices\n",
    "theo_rhos_3q = {key : ketbra(ket, ket) for key, ket in theo_kets_3q.items()}\n",
    "theo_kets_6q = {\n",
    "    f'{key1},{key2}' :\n",
    "    kron(theo_kets_3q.get(key2), theo_kets_3q.get(key1)) \n",
    "    for key1, key2 in itertools.product(theo_kets_3q.keys(), repeat=2)}\n",
    "\n",
    "#two-copy constituent states\n",
    "theo_rhos_6q = {key : ketbra(ket, ket) for key, ket in theo_kets_6q.items()}\n",
    "theo_rhos_6q_swapped = {key : ApplyOp(rho, swap_abc) for key, rho in theo_rhos_6q.items()}\n",
    "\n",
    "key_order = list(theo_rhos_6q_swapped.keys())\n",
    "\n",
    "Q = 0.26 #absurd value, normal would be 0.05\n",
    "weights_single_copy = np.array([(1-Q)/8]*8 + [Q/2]*2)\n",
    "\n",
    "weights_two_copy = np.outer(weights_single_copy,weights_single_copy).ravel()\n",
    "# # equivalent to\n",
    "# def key_to_weight(key):\n",
    "#     n = key.count('c')\n",
    "#     if n==0:\n",
    "#         return ((1-Q)**2)/64\n",
    "#     if n==1:\n",
    "#         return ((1-Q)*Q)/(8*2)\n",
    "#     if n==2:\n",
    "#         return Q*Q/4"
   ]
  },
  {
   "cell_type": "code",
   "execution_count": 15,
   "id": "8b1e1826",
   "metadata": {},
   "outputs": [
    {
     "name": "stdout",
     "output_type": "stream",
     "text": [
      "Index(['#ID ', ' MEAS ', ' k ', ' weight'], dtype='object')\n"
     ]
    }
   ],
   "source": [
    "# np.genfromtxt('witness_3copy_table.txt').shape\n",
    "import pandas as pd\n",
    "dframe = pd.read_csv('data/witness_3copy_table.txt', sep='\\t')\n",
    "print(dframe.keys())\n",
    "mstrs3cpy = [m.replace(' ','')[::-1] for m in dframe[' MEAS '][63:]]\n",
    "fullmstrs3cpy = [m.replace(' ','')[::-1] for m in dframe[' MEAS ']]\n",
    "mstrs3cpy[0] = 'Z'*9\n",
    "wwghst3cpy = np.array(dframe[' weight'])"
   ]
  },
  {
   "cell_type": "code",
   "execution_count": 16,
   "id": "bd33639f",
   "metadata": {},
   "outputs": [],
   "source": [
    "#extend 0.333 to 0.333... to compensate for the rounding in saved table\n",
    "for i, w in enumerate(wwghst3cpy):\n",
    "    if (abs(w)-0.333) < 1e-3:\n",
    "        wwghst3cpy[i] = np.sign(w)*1/3"
   ]
  },
  {
   "cell_type": "code",
   "execution_count": 18,
   "id": "0fc00450",
   "metadata": {},
   "outputs": [],
   "source": [
    "Q = 0.26 #0.05\n",
    "weights_single_copy = np.array([(1-Q)/8]*8 + [Q/2]*2)\n",
    "weights_two_copy = np.outer(weights_single_copy,weights_single_copy).ravel()"
   ]
  },
  {
   "cell_type": "code",
   "execution_count": 19,
   "id": "c4c68053",
   "metadata": {},
   "outputs": [],
   "source": [
    "rth0 = theo_rhos_3q['a1'] + theo_rhos_3q['a2']  + theo_rhos_3q['a3'] + theo_rhos_3q['a4']\n",
    "rth0 += theo_rhos_3q['b1'] + theo_rhos_3q['b2']  + theo_rhos_3q['b3'] + theo_rhos_3q['b4']\n",
    "rth0 /= 8\n",
    "rth0 = rth0*(1-Q) + Q*(theo_rhos_3q['c1'] + theo_rhos_3q['c2'])/2"
   ]
  },
  {
   "cell_type": "code",
   "execution_count": 20,
   "id": "1b4dc50e",
   "metadata": {},
   "outputs": [
    {
     "name": "stdout",
     "output_type": "stream",
     "text": [
      "-0.43549333333333384\n"
     ]
    }
   ],
   "source": [
    "swap_9q = swap_ij(9,5,7) @ swap_ij(9, 2,6) @ swap_ij(9, 1,3)\n",
    "rth3cpy = ApplyOp(kron(rth0, rth0, rth0), swap_9q)\n",
    "tomo3cpy = np.array([get_probabilities(rth3cpy, m) for m in fullmstrs3cpy])\n",
    "walsh3cpy = np.array([get_walsh_hadamard_vec(m) for m in fullmstrs3cpy])\n",
    "expvalth_3cpy = np.sum(tomo3cpy * walsh3cpy, axis=1)\n",
    "wval3th = wwghst3cpy @ expvalth_3cpy\n",
    "print(wval3th)"
   ]
  },
  {
   "cell_type": "code",
   "execution_count": 23,
   "id": "404762ae",
   "metadata": {},
   "outputs": [],
   "source": [
    "## Predict the value based on reconstructed density matrices\n",
    "with h5py.File('data/reconstructed_three_qubit_states.h5', 'r') as h5:\n",
    "    rhos_first_copy = np.array(h5['rho_024'])\n",
    "    rhos_second_copy = np.array(h5['rho_531'])\n",
    "    rho_first = np.sum(rhos_first_copy * weights_single_copy.reshape((-1,1,1)), axis=0)\n",
    "    rho_second = np.sum(rhos_second_copy * weights_single_copy.reshape((-1,1,1)), axis=0)\n",
    "    rhos_third_copy = rhos_first_copy #(rhos_first_copy + rhos_second_copy)/2\n",
    "    #since we do not know, we take a mean\n",
    "    rho_third = (rho_first+rho_second)*0.5\n",
    "\n",
    "rho_extrapolated_3cpy = kron(rho_first, rho_second, rho_third)\n",
    "rho_extr_3cpy_sw = (swap_9q @ rho_extrapolated_3cpy @ swap_9q)"
   ]
  },
  {
   "cell_type": "code",
   "execution_count": 25,
   "id": "94c759e5",
   "metadata": {},
   "outputs": [
    {
     "data": {
      "text/plain": [
       "0.9543098439256986"
      ]
     },
     "execution_count": 25,
     "metadata": {},
     "output_type": "execute_result"
    }
   ],
   "source": [
    "import KetSugar as ks\n",
    "ks.Fidelity(rho_extr_3cpy_sw, rth3cpy)\n",
    "#theoretical to expolated state fidelity"
   ]
  },
  {
   "cell_type": "code",
   "execution_count": 26,
   "id": "54f24516-52ad-4734-bdf0-52da7fb24aff",
   "metadata": {},
   "outputs": [],
   "source": [
    "theo_rhos_3q_list = [theo_rhos_3q[key] for key in [f'a{i}' for i in range(1,5)]+[f'b{i}' for i in range(1,5)]+['c1','c2']]"
   ]
  },
  {
   "cell_type": "markdown",
   "id": "8c1dcda9-ad36-4013-bfc5-c8ce2c1f5d56",
   "metadata": {},
   "source": [
    "### Create probability tables for ideal states"
   ]
  },
  {
   "cell_type": "code",
   "execution_count": 27,
   "id": "8b295570-d866-415c-934c-ef4d22ab0f8d",
   "metadata": {},
   "outputs": [
    {
     "name": "stderr",
     "output_type": "stream",
     "text": [
      "100%|███████████████████████████████████████████████████████████████████████████████| 1000/1000 [00:14<00:00, 67.25it/s]\n"
     ]
    }
   ],
   "source": [
    "#simulate witness tomogram - with ideal states\n",
    "## the following Torch code is equivalent to this code, but explicit python looping on CPU is slow\n",
    "## instead we trade memory for speed and run the calculations on GPU\n",
    "# big_prob_table = np.zeros((1000, 128, 512))\n",
    "# #instead we do vectorization and run it using torch\n",
    "# for (i, j, k) in tqdm(itertools.product(range(10), repeat=3), total=1000):\n",
    "#     _big_index = (i*100 + j*10 + k)\n",
    "#     _rho = kron(rhos_first_copy[i], rhos_first_copy[j], rhos_first_copy[k])\n",
    "#     for l, m in enumerate(fullmstrs3cpy):\n",
    "#         big_prob_table[_big_index, l, :] = get_probabilities(_rho, m)     \n",
    "# np.save('_prob_table_cache.npy', big_prob_table)\n",
    "\n",
    "with tr.no_grad():        \n",
    "    # big_prob_table = np.zeros((1000, len(fullmstrs3cpy), 512), dtype=np.float32) #~500 MB\n",
    "    big_prob_table_gpu_ideal = tr.zeros((1000, len(fullmstrs3cpy), 512), dtype=tr.float64, device='cuda')\n",
    "    big_state_table_gpu_ideal = tr.zeros((1000, 512*512), dtype=tr.complex128, device='cuda')\n",
    "\n",
    "    #prepare individual density matrices into a nice linearized table\n",
    "    for (_i, _j, _k) in tqdm((itertools.product(range(10), repeat=3)), total=1000):\n",
    "        _big_index = (_i*100 + _j*10 + _k)\n",
    "        _rho = ApplyOp(kron(theo_rhos_3q_list[_i], theo_rhos_3q_list[_j], theo_rhos_3q_list[_k]), swap_9q)\n",
    "        big_state_table_gpu_ideal[_big_index, :] = tr.from_numpy(_rho.ravel())"
   ]
  },
  {
   "cell_type": "code",
   "execution_count": 28,
   "id": "87a4b94d-d597-4f1a-91ee-84ddd508e43a",
   "metadata": {},
   "outputs": [
    {
     "name": "stderr",
     "output_type": "stream",
     "text": [
      "100%|█████████████████████████████████████████████████████████████████████████████████| 128/128 [06:16<00:00,  2.94s/it]\n"
     ]
    }
   ],
   "source": [
    "with tr.no_grad():   \n",
    "    for mindex, mstring in tqdm(enumerate(fullmstrs3cpy), total=128):\n",
    "        # print(mindex, mstring)\n",
    "        #generate projection table    \n",
    "        _proj_table = np.zeros((512*512,512), dtype=np.complex128) #2 GB of memory if using complex128\n",
    "        #this is slow and could be optimized further, but meh\n",
    "        for _i, ket in enumerate(base_string_to_proj(mstring)):\n",
    "            _proj_table[:,_i] = (ket @ ket.T.conj()).T.ravel()\n",
    "        _proj_table_gpu = tr.from_numpy(_proj_table).cuda()\n",
    "        #and use it to predict probabilities on rho\n",
    "        big_prob_table_gpu_ideal[:,mindex,:] = tr.matmul(big_state_table_gpu_ideal, _proj_table_gpu).real\n",
    "#free GPU memory\n",
    "del big_state_table_gpu_ideal\n",
    "\n",
    "big_prob_table_cpu_ideal =  big_prob_table_gpu_ideal.cpu().numpy()\n",
    "np.save('_cached_big_prob_table_ideal.npy', big_prob_table_cpu_ideal)    "
   ]
  },
  {
   "cell_type": "code",
   "execution_count": 29,
   "id": "11c75a40-ff38-40cc-a8bf-3d94cc22d231",
   "metadata": {},
   "outputs": [],
   "source": [
    "#free GPU memory\n",
    "del big_prob_table_gpu_ideal"
   ]
  },
  {
   "cell_type": "code",
   "execution_count": 30,
   "id": "b9818639",
   "metadata": {},
   "outputs": [],
   "source": [
    "#use cache, if one does not have time to compute things again\n",
    "big_prob_table_cpu_ideal = np.load('_cached_big_prob_table_ideal.npy')"
   ]
  },
  {
   "cell_type": "markdown",
   "id": "31d27204-ec5d-4b71-b544-c4384fdf6f36",
   "metadata": {},
   "source": [
    "### Create probability tables for experimental-based extrapolated states"
   ]
  },
  {
   "cell_type": "code",
   "execution_count": 31,
   "id": "5a34dba0-3557-40a1-b198-aa8d7e9fac4d",
   "metadata": {},
   "outputs": [
    {
     "name": "stderr",
     "output_type": "stream",
     "text": [
      "100%|███████████████████████████████████████████████████████████████████████████████| 1000/1000 [00:15<00:00, 65.77it/s]\n"
     ]
    }
   ],
   "source": [
    "with tr.no_grad():        \n",
    "    big_prob_table_gpu = tr.zeros((1000, len(fullmstrs3cpy), 512), dtype=tr.float64, device='cuda')\n",
    "    big_state_table_gpu = tr.zeros((1000, 512*512), dtype=tr.complex128, device='cuda')\n",
    "    #prepare individual density matrices into a nice linearized table\n",
    "    for (_i, _j, _k) in tqdm((itertools.product(range(10), repeat=3)), total=1000):\n",
    "        _big_index = (_i*100 + _j*10 + _k)\n",
    "        _rho = ApplyOp(kron(rhos_first_copy[_i], rhos_first_copy[_j], rhos_third_copy[_k]), swap_9q)\n",
    "        big_state_table_gpu[_big_index, :] = tr.from_numpy(_rho.ravel())"
   ]
  },
  {
   "cell_type": "code",
   "execution_count": 32,
   "id": "507b2027-1fb3-4be1-ad5f-5d8efa76e19f",
   "metadata": {},
   "outputs": [
    {
     "name": "stderr",
     "output_type": "stream",
     "text": [
      "100%|█████████████████████████████████████████████████████████████████████████████████| 128/128 [06:12<00:00,  2.91s/it]\n"
     ]
    }
   ],
   "source": [
    "with tr.no_grad():   \n",
    "    for mindex, mstring in tqdm(enumerate(fullmstrs3cpy),total=128):\n",
    "        #generate projection table    \n",
    "        _proj_table = np.zeros((512*512,512), dtype=np.complex128)\n",
    "        #this is slow and could be optimized further, but meh\n",
    "        for _i, ket in enumerate(base_string_to_proj(mstring)):\n",
    "            _proj_table[:,_i] = (ket @ ket.T.conj()).T.ravel()\n",
    "        _proj_table_gpu = tr.from_numpy(_proj_table).cuda()\n",
    "        #and use it to predict probabilities on rho\n",
    "        big_prob_table_gpu[:,mindex,:] = tr.matmul(big_state_table_gpu, _proj_table_gpu).real\n",
    "\n",
    "big_prob_table_cpu =  big_prob_table_gpu.cpu().numpy()\n",
    "del big_state_table_gpu\n",
    "del big_prob_table_gpu\n",
    "np.save('_cached_big_prob_table.npy', big_prob_table_cpu)    "
   ]
  },
  {
   "cell_type": "code",
   "execution_count": 33,
   "id": "2ee42fb9",
   "metadata": {},
   "outputs": [],
   "source": [
    "weights_three_copies = (weights_single_copy.reshape((10,1,1)) * weights_single_copy.reshape((1,10,1)) * weights_single_copy.reshape((1,1,10))).ravel()"
   ]
  },
  {
   "cell_type": "markdown",
   "id": "6e0f3e94",
   "metadata": {},
   "source": [
    "### Evaluate three-copy witness"
   ]
  },
  {
   "cell_type": "code",
   "execution_count": 41,
   "id": "facaac90",
   "metadata": {},
   "outputs": [],
   "source": [
    "# def selfnorm(arr):\n",
    "#     return arr/np.sum(arr)\n",
    "\n",
    "def sample_tomogram(shots, table, norm=True):\n",
    "    new_tomo = np.zeros_like(table, dtype=np.float32)\n",
    "    for i, subtable in enumerate(table):\n",
    "        for j, line in enumerate(subtable):\n",
    "            nline = np.clip(line.astype(np.float64),0,1)\n",
    "            nline /= np.sum(nline)\n",
    "            new_tomo[i,j] = np.random.multinomial(shots, nline)        \n",
    "    if norm:\n",
    "        new_tomo /= np.sum(new_tomo, axis=2).reshape((table.shape[0], table.shape[1], 1))\n",
    "    return new_tomo\n",
    "\n",
    "def process_tomo(tomo):\n",
    "    wghtd_tomo = np.sum(tomo * weights_three_copies.reshape((1000,1,1)), axis=0)\n",
    "    expval = np.sum(wghtd_tomo * walsh3cpy, axis=1)\n",
    "    return wwghst3cpy @ expval\n",
    "    "
   ]
  },
  {
   "cell_type": "code",
   "execution_count": 42,
   "id": "1b5f833a",
   "metadata": {},
   "outputs": [
    {
     "name": "stderr",
     "output_type": "stream",
     "text": [
      "100%|█████████████████████████████████████████████████████████████████████████████████████| 1/1 [00:03<00:00,  3.51s/it]"
     ]
    },
    {
     "name": "stdout",
     "output_type": "stream",
     "text": [
      "-0.43547314889903826\n",
      "0.0\n",
      "-0.43547314889903826\n",
      "-0.43547314889903826\n"
     ]
    },
    {
     "name": "stderr",
     "output_type": "stream",
     "text": [
      "\n"
     ]
    }
   ],
   "source": [
    "# ideal states, many shots, 1 monte carlo sample\n",
    "monte_carlo_samples = 1\n",
    "shots = 512*1000\n",
    "witness_samples = np.array([process_tomo(sample_tomogram(shots, big_prob_table_cpu_ideal, True)) for i in tqdm(range(monte_carlo_samples))])\n",
    "print(np.mean(witness_samples))\n",
    "print(np.std(witness_samples))\n",
    "print(np.min(witness_samples))\n",
    "print(np.max(witness_samples))"
   ]
  },
  {
   "cell_type": "code",
   "execution_count": 43,
   "id": "5678a2f1",
   "metadata": {},
   "outputs": [
    {
     "name": "stderr",
     "output_type": "stream",
     "text": [
      "100%|█████████████████████████████████████████████████████████████████████████████████████| 1/1 [00:08<00:00,  8.20s/it]"
     ]
    },
    {
     "name": "stdout",
     "output_type": "stream",
     "text": [
      "-0.03499344676545468\n",
      "0.0\n",
      "-0.03499344676545468\n",
      "-0.03499344676545468\n"
     ]
    },
    {
     "name": "stderr",
     "output_type": "stream",
     "text": [
      "\n"
     ]
    }
   ],
   "source": [
    "# reconstructed states, many shots, 1 monte carlo sample\n",
    "monte_carlo_samples = 1\n",
    "shots = 512*1000\n",
    "witness_samples = np.array([process_tomo(sample_tomogram(shots, big_prob_table_cpu, True)) for i in tqdm(range(monte_carlo_samples))])\n",
    "print(np.mean(witness_samples))\n",
    "print(np.std(witness_samples))\n",
    "print(np.min(witness_samples))\n",
    "print(np.max(witness_samples))"
   ]
  },
  {
   "cell_type": "code",
   "execution_count": 44,
   "id": "64269efa-977c-4ee6-a7ff-580564bc57a4",
   "metadata": {},
   "outputs": [
    {
     "name": "stderr",
     "output_type": "stream",
     "text": [
      "100%|█████████████████████████████████████████████████████████████████████████████████| 100/100 [07:22<00:00,  4.43s/it]"
     ]
    },
    {
     "name": "stdout",
     "output_type": "stream",
     "text": [
      "-0.03618164667684747\n",
      "0.020796592032525405\n",
      "-0.0903861128572429\n",
      "0.0031659523461294303\n"
     ]
    },
    {
     "name": "stderr",
     "output_type": "stream",
     "text": [
      "\n"
     ]
    }
   ],
   "source": [
    "# reconstructed states, 50 shots per state and meas, 100 monte carlo sample\n",
    "monte_carlo_samples = 100\n",
    "shots = 50\n",
    "witness_samples = np.array([process_tomo(sample_tomogram(shots, big_prob_table_cpu, True)) for i in tqdm(range(monte_carlo_samples))])\n",
    "print(np.mean(witness_samples))\n",
    "print(np.std(witness_samples))\n",
    "print(np.min(witness_samples))\n",
    "print(np.max(witness_samples))"
   ]
  },
  {
   "cell_type": "code",
   "execution_count": 45,
   "id": "fd0d3c11-86ba-44b8-8365-9737f11f6e6c",
   "metadata": {},
   "outputs": [
    {
     "data": {
      "text/plain": [
       "(array([ 2.,  3., 10.,  7., 11., 12., 17., 26.,  6.,  6.]),\n",
       " array([-0.09038611, -0.08103091, -0.0716757 , -0.06232049, -0.05296529,\n",
       "        -0.04361008, -0.03425487, -0.02489967, -0.01554446, -0.00618925,\n",
       "         0.00316595]),\n",
       " <BarContainer object of 10 artists>)"
      ]
     },
     "execution_count": 45,
     "metadata": {},
     "output_type": "execute_result"
    },
    {
     "data": {
      "image/png": "[encoded data removed]",
      "text/plain": [
       "<Figure size 640x480 with 1 Axes>"
      ]
     },
     "metadata": {},
     "output_type": "display_data"
    }
   ],
   "source": [
    "plt.hist(witness_samples)"
   ]
  },
  {
   "cell_type": "code",
   "execution_count": 46,
   "id": "ed4e9dec-f698-4604-bfe2-d89705e495aa",
   "metadata": {},
   "outputs": [
    {
     "name": "stderr",
     "output_type": "stream",
     "text": [
      "100%|█████████████████████████████████████████████████████████████████████████████████| 100/100 [05:06<00:00,  3.06s/it]"
     ]
    },
    {
     "name": "stdout",
     "output_type": "stream",
     "text": [
      "-0.4325205957638248\n",
      "0.02376314559172012\n",
      "-0.4999021132304632\n",
      "-0.37721341128115005\n"
     ]
    },
    {
     "name": "stderr",
     "output_type": "stream",
     "text": [
      "\n"
     ]
    }
   ],
   "source": [
    "# reconstructed states, 50 shots per state and meas, 100 monte carlo sample\n",
    "monte_carlo_samples = 100\n",
    "shots = 50\n",
    "witness_samples = np.array([process_tomo(sample_tomogram(shots, big_prob_table_cpu_ideal, True)) for i in tqdm(range(monte_carlo_samples))])\n",
    "print(np.mean(witness_samples))\n",
    "print(np.std(witness_samples))\n",
    "print(np.min(witness_samples))\n",
    "print(np.max(witness_samples))"
   ]
  },
  {
   "cell_type": "code",
   "execution_count": 48,
   "id": "3234d7e3-3405-4626-8833-1826287f1821",
   "metadata": {},
   "outputs": [
    {
     "data": {
      "text/plain": [
       "(array([ 1.,  4.,  6., 11., 14., 26., 16., 13.,  5.,  4.]),\n",
       " array([-0.49990211, -0.48763324, -0.47536437, -0.4630955 , -0.45082663,\n",
       "        -0.43855776, -0.42628889, -0.41402002, -0.40175115, -0.38948228,\n",
       "        -0.37721341]),\n",
       " <BarContainer object of 10 artists>)"
      ]
     },
     "execution_count": 48,
     "metadata": {},
     "output_type": "execute_result"
    },
    {
     "data": {
      "image/png": "[encoded data removed]",
      "text/plain": [
       "<Figure size 640x480 with 1 Axes>"
      ]
     },
     "metadata": {},
     "output_type": "display_data"
    }
   ],
   "source": [
    "plt.hist(witness_samples)"
   ]
  },
  {
   "cell_type": "code",
   "execution_count": null,
   "id": "762986e2-e349-4ad1-b716-86c817f61ae1",
   "metadata": {},
   "outputs": [],
   "source": [
    "#note; devide results by a factor of 512 to achieve proper trace-norm of the witness operator,\n",
    "#in paper we do so"
   ]
  }
 ],
 "metadata": {
  "kernelspec": {
   "display_name": "Python 3 (ipykernel)",
   "language": "python",
   "name": "python3"
  },
  "language_info": {
   "codemirror_mode": {
    "name": "ipython",
    "version": 3
   },
   "file_extension": ".py",
   "mimetype": "text/x-python",
   "name": "python",
   "nbconvert_exporter": "python",
   "pygments_lexer": "ipython3",
   "version": "3.10.12"
  }
 },
 "nbformat": 4,
 "nbformat_minor": 5
}
