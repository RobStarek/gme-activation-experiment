{
 "cells": [
  {
   "cell_type": "markdown",
   "id": "b39af52d",
   "metadata": {},
   "source": [
    "# TODOs:\n",
    "\n",
    "* write code nicely and comment it\n",
    "* check marginalization"
   ]
  },
  {
   "cell_type": "code",
   "execution_count": 60,
   "id": "03945fbd",
   "metadata": {},
   "outputs": [],
   "source": [
    "# Import packages\n",
    "\n",
    "#builtins\n",
    "import itertools\n",
    "from functools import reduce, cache, partial\n",
    "\n",
    "#essentials\n",
    "import numpy as np\n",
    "import matplotlib.pyplot as plt\n",
    "import h5py #to open data packs\n",
    "import torch as tr\n",
    "\n",
    "#non-essentials\n",
    "from tqdm import tqdm # to show progressbars\n",
    "tqdm = partial(tqdm, position=0, leave=True)"
   ]
  },
  {
   "cell_type": "code",
   "execution_count": 61,
   "id": "4137033c",
   "metadata": {},
   "outputs": [],
   "source": [
    "# Quantum mechanics helper functions and constants\n",
    "# This has been in KetSugar.py, but it is moved here \n",
    "# for transparency.\n",
    "# ------------------------------------\n",
    "\n",
    "LO = np.array([[1],[0]])\n",
    "HI = np.array([[0],[1]])\n",
    "HLO = (LO+HI)*(2**-.5)\n",
    "HHI = (LO-HI)*(2**-.5)\n",
    "CLO = (LO+1j*HI)*(2**-.5)\n",
    "CHI = (LO-1j*HI)*(2**-.5)\n",
    "\n",
    "Sgate = np.array([[1, 0], [0, 1j]])\n",
    "SI = np.eye(2)\n",
    "SZ = np.diag([1,-1])\n",
    "SX = np.array([[0,1],[1,0]])\n",
    "SY = np.array([[0,-1j],[1j,0]])\n",
    "\n",
    "#eigenvectors and eigenvalues of Pauli matrices\n",
    "PAULI_EIGENBASE_DICT = {\n",
    "    'I' : ((LO, HI), (1,1)),\n",
    "    'X' : ((HLO, HHI), (1,-1)),\n",
    "    'Y' : ((CLO, CHI),(1,-1)),\n",
    "    'Z' : ((LO, HI), (1,-1)),\n",
    "}\n",
    "\n",
    "def dagger(x : np.ndarray) -> np.ndarray:\n",
    "    \"\"\"\n",
    "    Hermite conjugation of x.\n",
    "    \"\"\"\n",
    "    return x.T.conjugate()\n",
    "\n",
    "def ketbra(x : np.ndarray, y : np.ndarray) -> np.ndarray:\n",
    "    \"\"\"\n",
    "    Outer product of two ket-vectors -> C-matrix\n",
    "    \"\"\"\n",
    "    return np.dot(x, y.T.conjugate())\n",
    "\n",
    "def kron(*arrays) -> np.ndarray:\n",
    "    \"\"\"\n",
    "    Multiple Kronecker (tensor) product.\n",
    "    Multiplication is performed from left.    \n",
    "    \"\"\"\n",
    "    E = np.eye(1, dtype=complex)\n",
    "    for M in arrays:\n",
    "        E = np.kron(E,M)\n",
    "    return E\n",
    "\n",
    "def BinKet(i : int = 0,imx : int =1) -> np.ndarray:\n",
    "    \"\"\"\n",
    "    Computational base states i in imx+1-dimensional vectors.\n",
    "    \"\"\"\n",
    "    ket = np.zeros((imx+1,1), dtype=complex)\n",
    "    ket[i] = 1\n",
    "    return ket\n",
    "\n",
    "def ApplyOp(Rho : np.ndarray,M : np.ndarray) -> np.ndarray:\n",
    "    \"\"\"\n",
    "    Calculate M.Rho.dagger(M).\n",
    "    \"\"\"\n",
    "    return M @ Rho @ M.T.conjugate()\n",
    "\n",
    "def ExpectationValue(Ket : np.ndarray, M : np.ndarray) -> np.ndarray:\n",
    "    \"\"\"\n",
    "    Expectation value <bra|M|ket>.\n",
    "    \"\"\"\n",
    "    return (Ket.T.conjugate() @ M @ Ket)[0,0]\n",
    "\n",
    "@cache\n",
    "def get_walsh_hadamard_vec(label : str) -> np.ndarray:\n",
    "    \"\"\"\n",
    "    Get auxiliary vector for turning tomogram row into expectation value. Candidate for tabellation.\n",
    "    \"\"\"\n",
    "    #eigenvalues of Pauli operators\n",
    "    arr_map = {\n",
    "        'X' : np.array([1,-1]),\n",
    "        'Y' : np.array([1,-1]),\n",
    "        'Z' : np.array([1,-1]),\n",
    "        'I' : np.array([1,1])\n",
    "    }\n",
    "    return reduce(np.outer, [arr_map.get(c, np.eye(1)) for c in label]).ravel()\n",
    "get_walsh_hadamard_vec.cache_clear()\n",
    "\n",
    "@cache #cache calls to r\n",
    "def base_string_to_proj(string : str) -> list:\n",
    "    \"\"\"\n",
    "    Input measurement string and get projection operators corresponding to that string, \n",
    "    all combinations that can happen.    \n",
    "    \"\"\"    \n",
    "    eigenvects = [PAULI_EIGENBASE_DICT[b][0] for b in string]\n",
    "    proj_kets = [kron(*vecs) for i, vecs in enumerate(itertools.product(*eigenvects))]\n",
    "    return proj_kets\n",
    "base_string_to_proj.cache_clear()\n",
    "\n",
    "def get_probabilities(rho : np.ndarray, base_str : str) -> np.ndarray:\n",
    "    \"\"\"Input density matrix and measurement string, and get array of probabilities ordered from 0..0 to 1..1\"\"\"\n",
    "    #probs are ordered in increasing order of their binary representation\n",
    "    probs = np.array([ExpectationValue(ket, rho).real for ket in base_string_to_proj(base_str)])\n",
    "    return probs"
   ]
  },
  {
   "cell_type": "code",
   "execution_count": 62,
   "id": "75f1c24a",
   "metadata": {},
   "outputs": [],
   "source": [
    "# Define the states considered here\n",
    "# ---------------------------\n",
    "#Swap gates\n",
    "def swap_ij(n : int, i : int, j : int) -> np.ndarray:\n",
    "    \"\"\"Generate swap matrix of qubits i,j in n-qubit space.\"\"\"\n",
    "    left_qubits = i\n",
    "    central_qubits = (j - i) - 1\n",
    "    right_qubits = (n - j) - 1\n",
    "    eye_left = np.eye(1 << left_qubits)\n",
    "    eye_center = np.eye(1 << central_qubits)\n",
    "    eye_right = np.eye(1 << right_qubits)    \n",
    "    ket_01 = kron(eye_left, LO, eye_center, HI, eye_right)\n",
    "    ket_10 = kron(eye_left, HI, eye_center, LO, eye_right)\n",
    "    bra_01 = dagger(ket_01)\n",
    "    bra_10 = dagger(ket_10)\n",
    "    swap = np.eye(1 << n, dtype=complex) \\\n",
    "        - ket_01 @ bra_01 - ket_10 @ bra_10 \\\n",
    "        + ket_01 @ bra_10 + ket_10 @ bra_01\n",
    "    return swap\n",
    "\n",
    "#operator that does this swap: abcabc -> aabbcc\n",
    "swap_abc = swap_ij(6,3,4) @ swap_ij(6,1,2) @ swap_ij(6,2,3)\n",
    "\n",
    "prep_gate = kron(Sgate, Sgate, SZ)\n",
    "bellp = (BinKet(0b00, 3) + BinKet(0b11, 3))/np.sqrt(2)\n",
    "bellm = (BinKet(0b00, 3) - BinKet(0b11, 3))/np.sqrt(2)\n",
    "bell02p = (BinKet(0b000, 7) + BinKet(0b101, 7)+BinKet(0b010, 7) + BinKet(0b111, 7))/2\n",
    "bell02m = (BinKet(0b000, 7) - BinKet(0b101, 7)-BinKet(0b010, 7) + BinKet(0b111, 7))/2\n",
    "\n",
    "#single-copy constituent states as ket vectors\n",
    "theo_kets_3q = {\n",
    "    'a1' : kron(HLO, bellp),\n",
    "    'a2' : kron(HHI, bellm),\n",
    "    'a3' : prep_gate @ kron(HLO, bellp),\n",
    "    'a4' : prep_gate @ kron(HHI, bellm),\n",
    "    'b1' : bell02p,\n",
    "    'b2' : bell02m,\n",
    "    'b3' : prep_gate @ bell02p,\n",
    "    'b4' : prep_gate @ bell02m,\n",
    "    'c1' : BinKet(0b001, 7),\n",
    "    'c2' : BinKet(0b110, 7)\n",
    "}\n",
    "\n",
    "#single-copy constituent states as density matrices\n",
    "theo_rhos_3q = {key : ketbra(ket, ket) for key, ket in theo_kets_3q.items()}\n",
    "theo_kets_6q = {\n",
    "    f'{key1},{key2}' :\n",
    "    kron(theo_kets_3q.get(key2), theo_kets_3q.get(key1)) \n",
    "    for key1, key2 in itertools.product(theo_kets_3q.keys(), repeat=2)}\n",
    "\n",
    "#two-copy constituent states\n",
    "theo_rhos_6q = {key : ketbra(ket, ket) for key, ket in theo_kets_6q.items()}\n",
    "theo_rhos_6q_swapped = {key : ApplyOp(rho, swap_abc) for key, rho in theo_rhos_6q.items()}\n",
    "\n",
    "key_order = list(theo_rhos_6q_swapped.keys())\n",
    "\n",
    "Q = 0.26 #absurd value, normal would be 0.05\n",
    "weights_single_copy = np.array([(1-Q)/8]*8 + [Q/2]*2)\n",
    "\n",
    "weights_two_copy = np.outer(weights_single_copy,weights_single_copy).ravel()\n",
    "# # equivalent to\n",
    "# def key_to_weight(key):\n",
    "#     n = key.count('c')\n",
    "#     if n==0:\n",
    "#         return ((1-Q)**2)/64\n",
    "#     if n==1:\n",
    "#         return ((1-Q)*Q)/(8*2)\n",
    "#     if n==2:\n",
    "#         return Q*Q/4"
   ]
  },
  {
   "cell_type": "code",
   "execution_count": 63,
   "id": "527680e0",
   "metadata": {},
   "outputs": [],
   "source": [
    "with h5py.File('data/wits.h5', 'r') as h5f:\n",
    "    witness_measurements = [s.decode('ascii') for s in h5f['two_copy_table_meas']]\n",
    "    witness_full_meas = [s.decode('ascii') for s in h5f['two_copy_table_meas_full']] #h5f['two_copy_table_meas_full']\n",
    "    witness_factors = np.array(h5f['two_copy_table_factors'])\n",
    "    witness_op = np.array(h5f['two_copy_operator'])\n",
    "\n",
    "#table of vectors used to convert tomogram lines to expectation values\n",
    "walsh_table = np.array([get_walsh_hadamard_vec(m) for m in witness_full_meas])\n",
    "\n",
    "def extend_tomogram(tomo : np.ndarray) -> np.ndarray:\n",
    "    \"\"\"\n",
    "    Copy first line of the tomogram 16-times.\n",
    "    This is only a helper function to make the subsequent \n",
    "    calculations more convenient.\n",
    "    It will be used to predict exp. values of measurements containing only I and Z.\n",
    "    \"\"\"\n",
    "    return np.array([tomo[0]]*16 + list(tomo[1:]))\n"
   ]
  },
  {
   "cell_type": "code",
   "execution_count": 64,
   "id": "8009e3e0",
   "metadata": {},
   "outputs": [
    {
     "data": {
      "text/plain": [
       "['ZZZZZZ',\n",
       " 'XXXXXX',\n",
       " 'YXYXXX',\n",
       " 'XYXYXX',\n",
       " 'YYYYXX',\n",
       " 'YXXXYX',\n",
       " 'XXYXYX',\n",
       " 'YYXYYX',\n",
       " 'XYYYYX',\n",
       " 'XYXXXY',\n",
       " 'YYYXXY',\n",
       " 'XXXYXY',\n",
       " 'YXYYXY',\n",
       " 'YYXXYY',\n",
       " 'XYYXYY',\n",
       " 'YXXYYY',\n",
       " 'XXYYYY']"
      ]
     },
     "execution_count": 64,
     "metadata": {},
     "output_type": "execute_result"
    }
   ],
   "source": [
    "witness_measurements"
   ]
  },
  {
   "cell_type": "code",
   "execution_count": 65,
   "id": "8b1e1826",
   "metadata": {},
   "outputs": [],
   "source": [
    "# np.genfromtxt('witness_3copy_table.txt').shape\n",
    "import pandas as pd\n",
    "\n",
    "dframe = pd.read_csv('witness_3copy_table.txt', sep='\\t')"
   ]
  },
  {
   "cell_type": "code",
   "execution_count": 66,
   "id": "57cee3a2",
   "metadata": {},
   "outputs": [
    {
     "data": {
      "text/plain": [
       "Index(['#ID ', ' MEAS ', ' k ', ' weight'], dtype='object')"
      ]
     },
     "execution_count": 66,
     "metadata": {},
     "output_type": "execute_result"
    }
   ],
   "source": [
    "dframe.keys()"
   ]
  },
  {
   "cell_type": "code",
   "execution_count": 67,
   "id": "abbf1410",
   "metadata": {},
   "outputs": [],
   "source": [
    "mstrs3cpy = [m.replace(' ','')[::-1] for m in dframe[' MEAS '][63:]]\n",
    "fullmstrs3cpy = [m.replace(' ','')[::-1] for m in dframe[' MEAS ']]\n",
    "mstrs3cpy[0] = 'Z'*9\n",
    "wwghst3cpy = np.array(dframe[' weight'])"
   ]
  },
  {
   "cell_type": "code",
   "execution_count": 68,
   "id": "bd33639f",
   "metadata": {},
   "outputs": [],
   "source": [
    "#extend 0.333 to 0.333... to compensate for the rounding in saved table\n",
    "for i, w in enumerate(wwghst3cpy):\n",
    "    if (abs(w)-0.333) < 1e-3:\n",
    "        wwghst3cpy[i] = np.sign(w)*1/3"
   ]
  },
  {
   "cell_type": "code",
   "execution_count": 69,
   "id": "7e7c29a8",
   "metadata": {},
   "outputs": [
    {
     "data": {
      "text/plain": [
       "('XXXYYYYYY', 'XXYYYY')"
      ]
     },
     "execution_count": 69,
     "metadata": {},
     "output_type": "execute_result"
    }
   ],
   "source": [
    "mstrs3cpy[-1], witness_measurements[-1]"
   ]
  },
  {
   "cell_type": "code",
   "execution_count": 70,
   "id": "a9247887",
   "metadata": {},
   "outputs": [
    {
     "data": {
      "text/plain": [
       "['ZZZZZZZZZ',\n",
       " 'XXXXXXXXX',\n",
       " 'YXXYXXXXX',\n",
       " 'XYXXYXXXX',\n",
       " 'YYXYYXXXX',\n",
       " 'XXYXXYXXX',\n",
       " 'YXYYXYXXX',\n",
       " 'XYYXYYXXX',\n",
       " 'YYYYYYXXX',\n",
       " 'YXXXXXYXX',\n",
       " 'XXXYXXYXX',\n",
       " 'YYXXYXYXX',\n",
       " 'XYXYYXYXX',\n",
       " 'YXYXXYYXX',\n",
       " 'XXYYXYYXX',\n",
       " 'YYYXYYYXX',\n",
       " 'XYYYYYYXX',\n",
       " 'XYXXXXXYX',\n",
       " 'YYXYXXXYX',\n",
       " 'XXXXYXXYX',\n",
       " 'YXXYYXXYX',\n",
       " 'XYYXXYXYX',\n",
       " 'YYYYXYXYX',\n",
       " 'XXYXYYXYX',\n",
       " 'YXYYYYXYX',\n",
       " 'YYXXXXYYX',\n",
       " 'XYXYXXYYX',\n",
       " 'YXXXYXYYX',\n",
       " 'XXXYYXYYX',\n",
       " 'YYYXXYYYX',\n",
       " 'XYYYXYYYX',\n",
       " 'YXYXYYYYX',\n",
       " 'XXYYYYYYX',\n",
       " 'XXYXXXXXY',\n",
       " 'YXYYXXXXY',\n",
       " 'XYYXYXXXY',\n",
       " 'YYYYYXXXY',\n",
       " 'XXXXXYXXY',\n",
       " 'YXXYXYXXY',\n",
       " 'XYXXYYXXY',\n",
       " 'YYXYYYXXY',\n",
       " 'YXYXXXYXY',\n",
       " 'XXYYXXYXY',\n",
       " 'YYYXYXYXY',\n",
       " 'XYYYYXYXY',\n",
       " 'YXXXXYYXY',\n",
       " 'XXXYXYYXY',\n",
       " 'YYXXYYYXY',\n",
       " 'XYXYYYYXY',\n",
       " 'XYYXXXXYY',\n",
       " 'YYYYXXXYY',\n",
       " 'XXYXYXXYY',\n",
       " 'YXYYYXXYY',\n",
       " 'XYXXXYXYY',\n",
       " 'YYXYXYXYY',\n",
       " 'XXXXYYXYY',\n",
       " 'YXXYYYXYY',\n",
       " 'YYYXXXYYY',\n",
       " 'XYYYXXYYY',\n",
       " 'YXYXYXYYY',\n",
       " 'XXYYYXYYY',\n",
       " 'YYXXXYYYY',\n",
       " 'XYXYXYYYY',\n",
       " 'YXXXYYYYY',\n",
       " 'XXXYYYYYY']"
      ]
     },
     "execution_count": 70,
     "metadata": {},
     "output_type": "execute_result"
    }
   ],
   "source": [
    "mstrs3cpy"
   ]
  },
  {
   "cell_type": "code",
   "execution_count": 71,
   "id": "b1922630",
   "metadata": {},
   "outputs": [],
   "source": [
    "mstrs_red = [m[0]+m[2]+m[4] for m in witness_measurements]\n",
    "\n",
    "def can_be_composed(m):\n",
    "    pt1 = m[0]+m[1]+m[3]+m[4]+m[6]+m[7]\n",
    "    pt2 = m[2]+m[5]+m[8]\n",
    "    cnd = (pt1 in witness_measurements) and (pt2 in mstrs_red)\n",
    "    \n",
    "    i = witness_measurements.index(pt1)\n",
    "    j = mstrs_red.index(pt2)\n",
    "    return cnd, i, j\n",
    "\n",
    "for m in mstrs3cpy:\n",
    "    cnd, i, j = can_be_composed(m)\n",
    "    assert cnd\n",
    "    \n",
    "#obs: all needed lines can composed"
   ]
  },
  {
   "cell_type": "code",
   "execution_count": 72,
   "id": "e280880a",
   "metadata": {},
   "outputs": [
    {
     "data": {
      "text/plain": [
       "(100, 17, 64)"
      ]
     },
     "execution_count": 72,
     "metadata": {},
     "output_type": "execute_result"
    }
   ],
   "source": [
    "#create marginal tomogram by picking \n",
    "\n",
    "with h5py.File('data/wit_data_27_05_25_Block2.h5', 'r') as h5f:\n",
    "    measd_keys = h5f.attrs.get('prepared_states')\n",
    "    #load H5 file into dict of tomograms\n",
    "    measd_tomogram = {key : np.array(h5f[key]) for key in key_order}\n",
    "measd_tomogram_arr = np.array([measd_tomogram[key] for key in key_order])\n",
    "measd_tomogram_arr.shape    "
   ]
  },
  {
   "cell_type": "code",
   "execution_count": 73,
   "id": "733912ad",
   "metadata": {},
   "outputs": [
    {
     "data": {
      "text/plain": [
       "(17, 64)"
      ]
     },
     "execution_count": 73,
     "metadata": {},
     "output_type": "execute_result"
    }
   ],
   "source": [
    "measd_tomogram_arr[0].shape"
   ]
  },
  {
   "cell_type": "code",
   "execution_count": 74,
   "id": "996ca380",
   "metadata": {},
   "outputs": [],
   "source": [
    "def get_reduction_vec(nbits, picked_bits = None):\n",
    "    \"\"\"Go through all n-bit values and calculate corresponding reduced number by picking bits.\"\"\"\n",
    "    vec = []\n",
    "    for i in range(int(2**nbits)):\n",
    "        ired = 0\n",
    "        for j, p in enumerate(picked_bits):\n",
    "            bit_value = bool(((0b1 << p) & i))\n",
    "            ired |= (bit_value << j)\n",
    "        vec.append(ired)\n",
    "    return vec\n",
    "\n",
    "def marginalize_tomo(tomo, picked_bits):\n",
    "    \"\"\"\n",
    "    Marginalize a tomogram over a subset of bits.\n",
    "\n",
    "    Parameters\n",
    "    ----------\n",
    "    tomo : np.ndarray\n",
    "        The input tomogram array of shape (n, 2**k), where k is the number of bits.\n",
    "    picked_bits : list or None\n",
    "        List of bit indices to keep (marginalize over all other bits).\n",
    "    Returns\n",
    "    -------\n",
    "    arr : np.ndarray\n",
    "        The marginalized tomogram of shape (n, 2**len(picked_bits)).\n",
    "    \"\"\"\n",
    "    n, m = tomo.shape\n",
    "    original_bit_length = int(np.log2(m))\n",
    "    new_arr_length = int(2**len(picked_bits))\n",
    "    idxvec = np.array(get_reduction_vec(original_bit_length, picked_bits))\n",
    "    arr = np.zeros((n, new_arr_length))\n",
    "    for i in range(new_arr_length):\n",
    "        subtomo = np.sum(tomo[:, idxvec==i], axis=1)\n",
    "        arr[:,i] = subtomo\n",
    "    return arr"
   ]
  },
  {
   "cell_type": "code",
   "execution_count": 75,
   "id": "66a1758e",
   "metadata": {},
   "outputs": [],
   "source": [
    "subwitness_full_meas = [m[0]+m[2]+m[4] for m in witness_full_meas]"
   ]
  },
  {
   "cell_type": "code",
   "execution_count": 76,
   "id": "fbf6c9e0",
   "metadata": {},
   "outputs": [],
   "source": [
    "#table of vectors used to convert tomogram lines to expectation values\n",
    "walsh_table = np.array([get_walsh_hadamard_vec(m) for m in witness_full_meas])\n",
    "subwalsh_table = np.array([get_walsh_hadamard_vec(m) for m in subwitness_full_meas])\n",
    "\n",
    "def extend_tomogram(tomo : np.ndarray) -> np.ndarray:\n",
    "    \"\"\"\n",
    "    Copy first line of the tomogram 16-times.\n",
    "    This is only a helper function to make the subsequent \n",
    "    calculations more convenient.\n",
    "    It will be used to predict exp. values of measurements containing only I and Z.\n",
    "    \"\"\"\n",
    "    return np.array([tomo[0]]*16 + list(tomo[1:]))"
   ]
  },
  {
   "cell_type": "code",
   "execution_count": 77,
   "id": "0fc00450",
   "metadata": {},
   "outputs": [
    {
     "data": {
      "text/plain": [
       "(32,)"
      ]
     },
     "execution_count": 77,
     "metadata": {},
     "output_type": "execute_result"
    }
   ],
   "source": [
    "Q = 0.26 #0.05\n",
    "weights_single_copy = np.array([(1-Q)/8]*8 + [Q/2]*2)\n",
    "weights_two_copy = np.outer(weights_single_copy,weights_single_copy).ravel()\n",
    "\n",
    "#weight-and-mix the constituent tomograms\n",
    "weighted_tomo_counts = np.sum(measd_tomogram_arr * weights_two_copy.reshape((100,1,1)), axis=0)\n",
    "#norm lines to identity sum - in order to convert possible count array to probabilities\n",
    "weighted_tomo_probs = weighted_tomo_counts/np.sum(weighted_tomo_counts, axis=1).reshape((17,1))\n",
    "#extend tomogram by copying the first line 16-times to...\n",
    "wtomo2cpy = extend_tomogram(weighted_tomo_probs)\n",
    "\n",
    "expvals2cp = np.sum(walsh_table*wtomo2cpy, axis=1)\n",
    "expvals2cp.shape"
   ]
  },
  {
   "cell_type": "code",
   "execution_count": 78,
   "id": "3bc467f4",
   "metadata": {},
   "outputs": [
    {
     "data": {
      "text/plain": [
       "0.13623724999999953"
      ]
     },
     "execution_count": 78,
     "metadata": {},
     "output_type": "execute_result"
    }
   ],
   "source": [
    "# expectation value for two qubit is higher than 0 - GME is not certified\n",
    "expvals2cp @ witness_factors"
   ]
  },
  {
   "cell_type": "code",
   "execution_count": 79,
   "id": "c4c68053",
   "metadata": {},
   "outputs": [
    {
     "data": {
      "text/plain": [
       "<matplotlib.image.AxesImage at 0x7f29c4f76cb0>"
      ]
     },
     "execution_count": 79,
     "metadata": {},
     "output_type": "execute_result"
    },
    {
     "data": {
      "image/png": "[encoded data removed]",
      "text/plain": [
       "<Figure size 1600x400 with 1 Axes>"
      ]
     },
     "metadata": {},
     "output_type": "display_data"
    }
   ],
   "source": [
    "rth0 = theo_rhos_3q['a1'] + theo_rhos_3q['a2']  + theo_rhos_3q['a3'] + theo_rhos_3q['a4']\n",
    "rth0 += theo_rhos_3q['b1'] + theo_rhos_3q['b2']  + theo_rhos_3q['b3'] + theo_rhos_3q['b4']\n",
    "rth0 /= 8\n",
    "rth0 = rth0*(1-Q) + Q*(theo_rhos_3q['c1'] + theo_rhos_3q['c2'])/2\n",
    "\n",
    "gen = (get_probabilities(rth0, m) for m in subwitness_full_meas)\n",
    "theoretical_tomogram_red = np.array(list(gen)).reshape((-1,8))\n",
    "plt.matshow(theoretical_tomogram_red.T)"
   ]
  },
  {
   "cell_type": "code",
   "execution_count": 80,
   "id": "41e59702",
   "metadata": {},
   "outputs": [
    {
     "data": {
      "text/plain": [
       "[<matplotlib.lines.Line2D at 0x7f29c4fd9de0>]"
      ]
     },
     "execution_count": 80,
     "metadata": {},
     "output_type": "execute_result"
    },
    {
     "data": {
      "image/png": "[encoded data removed]",
      "text/plain": [
       "<Figure size 640x480 with 1 Axes>"
      ]
     },
     "metadata": {},
     "output_type": "display_data"
    }
   ],
   "source": [
    "# wtm1 = marginalize_tomo(wtomo2cpy, [0,2,4]) #strange...check this\n",
    "reduced_mixed_wit_tomo = marginalize_tomo(wtomo2cpy, [1,3,5])\n",
    "reduced_expvals = np.sum(subwalsh_table * reduced_mixed_wit_tomo, axis=1)\n",
    "\n",
    "plt.plot(reduced_expvals)"
   ]
  },
  {
   "cell_type": "code",
   "execution_count": 81,
   "id": "f10099fe",
   "metadata": {},
   "outputs": [
    {
     "data": {
      "text/plain": [
       "[<matplotlib.lines.Line2D at 0x7f2a50192740>]"
      ]
     },
     "execution_count": 81,
     "metadata": {},
     "output_type": "execute_result"
    },
    {
     "data": {
      "image/png": "[encoded data removed]",
      "text/plain": [
       "<Figure size 640x480 with 1 Axes>"
      ]
     },
     "metadata": {},
     "output_type": "display_data"
    }
   ],
   "source": [
    "#measurements on the first copy\n",
    "mstrs_red2 = [m[0]+m[2]+m[4] for m in witness_full_meas]\n",
    "\n",
    "def can_be_composed2(m):\n",
    "    pt1 = m[0]+m[1]+m[3]+m[4]+m[6]+m[7] #measurement on first two copies\n",
    "    pt2 = m[2]+m[5]+m[8] #measurements on the third copy\n",
    "    cnd = (pt1 in witness_full_meas) and (pt2 in mstrs_red2) #true if the measurement m can be composed from 2-copy subtomos\n",
    "    \n",
    "    i = witness_full_meas.index(pt1)\n",
    "    j = mstrs_red2.index(pt2)\n",
    "    return cnd, i, j\n",
    "\n",
    "expvals_extrapolated = []\n",
    "\n",
    "for m in fullmstrs3cpy:\n",
    "    ok, i, j = can_be_composed2(m)\n",
    "    assert ok\n",
    "    pt1 = expvals2cp[i]\n",
    "    pt2 = reduced_expvals[j]\n",
    "    tot = pt1 * pt2\n",
    "    expvals_extrapolated.append(tot)\n",
    "\n",
    "expvals_extrapolated = np.array(expvals_extrapolated)\n",
    "expvals_extrapolated.shape\n",
    "plt.plot(expvals_extrapolated)"
   ]
  },
  {
   "cell_type": "code",
   "execution_count": 82,
   "id": "1b4dc50e",
   "metadata": {},
   "outputs": [],
   "source": [
    "swap_9q = swap_ij(9,5,7) @ swap_ij(9, 2,6) @ swap_ij(9, 1,3)\n",
    "rth3cpy = ApplyOp(kron(rth0, rth0, rth0), swap_9q)"
   ]
  },
  {
   "cell_type": "code",
   "execution_count": 83,
   "id": "c1fc7724",
   "metadata": {},
   "outputs": [],
   "source": [
    "tomo3cpy = np.array([get_probabilities(rth3cpy, m) for m in fullmstrs3cpy])"
   ]
  },
  {
   "cell_type": "code",
   "execution_count": 84,
   "id": "7051948e",
   "metadata": {},
   "outputs": [],
   "source": [
    "walsh3cpy = np.array([get_walsh_hadamard_vec(m) for m in fullmstrs3cpy])"
   ]
  },
  {
   "cell_type": "code",
   "execution_count": 85,
   "id": "a1df39fa",
   "metadata": {},
   "outputs": [
    {
     "name": "stdout",
     "output_type": "stream",
     "text": [
      "-0.43549333333333384\n"
     ]
    }
   ],
   "source": [
    "expvalth_3cpy = np.sum(tomo3cpy * walsh3cpy, axis=1)\n",
    "wval3th = wwghst3cpy @ expvalth_3cpy\n",
    "print(wval3th)"
   ]
  },
  {
   "cell_type": "code",
   "execution_count": 86,
   "id": "0f376a80",
   "metadata": {},
   "outputs": [
    {
     "name": "stdout",
     "output_type": "stream",
     "text": [
      "-0.13204261748025103\n"
     ]
    }
   ],
   "source": [
    "wval3extrp = wwghst3cpy @ expvals_extrapolated\n",
    "print(wval3extrp)"
   ]
  },
  {
   "cell_type": "code",
   "execution_count": 87,
   "id": "dba42038",
   "metadata": {},
   "outputs": [
    {
     "data": {
      "text/plain": [
       "[<matplotlib.lines.Line2D at 0x7f29c4d1a860>]"
      ]
     },
     "execution_count": 87,
     "metadata": {},
     "output_type": "execute_result"
    },
    {
     "data": {
      "image/png": "[encoded data removed]",
      "text/plain": [
       "<Figure size 640x480 with 1 Axes>"
      ]
     },
     "metadata": {},
     "output_type": "display_data"
    }
   ],
   "source": [
    "plt.plot(expvalth_3cpy)\n",
    "plt.plot(expvals_extrapolated)"
   ]
  },
  {
   "cell_type": "code",
   "execution_count": 88,
   "id": "404762ae",
   "metadata": {},
   "outputs": [],
   "source": [
    "## Predict the value based on reconstructed density matrices\n",
    "\n",
    "with h5py.File('data/new_single_copy_states.h5', 'r') as h5:\n",
    "    rhos_first_copy = np.array(h5['rhos024'])\n",
    "    rhos_second_copy = np.array(h5['rhos531'])\n",
    "    rho_first = np.sum(rhos_first_copy * weights_single_copy.reshape((-1,1,1)), axis=0)\n",
    "    rho_second = np.sum(rhos_second_copy * weights_single_copy.reshape((-1,1,1)), axis=0)\n",
    "    rhos_third_copy = rhos_first_copy #(rhos_first_copy + rhos_second_copy)/2\n",
    "    #since we do not know, we take a mean\n",
    "    rho_third = (rho_first+rho_second)*0.5\n",
    "\n",
    "rho_extrapolated_3cpy = kron(rho_first, rho_second, rho_third)\n",
    "\n",
    "rho_extr_3cpy_sw = (swap_9q @ rho_extrapolated_3cpy @ swap_9q)"
   ]
  },
  {
   "cell_type": "code",
   "execution_count": 89,
   "id": "94c759e5",
   "metadata": {},
   "outputs": [
    {
     "data": {
      "text/plain": [
       "0.9543167960681679"
      ]
     },
     "execution_count": 89,
     "metadata": {},
     "output_type": "execute_result"
    }
   ],
   "source": [
    "import KetSugar as ks\n",
    "ks.Fidelity(rho_extr_3cpy_sw, rth3cpy)\n",
    "#theoretical to expolated state fidelity"
   ]
  },
  {
   "cell_type": "code",
   "execution_count": 90,
   "id": "54f24516-52ad-4734-bdf0-52da7fb24aff",
   "metadata": {},
   "outputs": [],
   "source": [
    "theo_rhos_3q_list = [theo_rhos_3q[key] for key in [f'a{i}' for i in range(1,5)]+[f'b{i}' for i in range(1,5)]+['c1','c2']]"
   ]
  },
  {
   "cell_type": "markdown",
   "id": "8c1dcda9-ad36-4013-bfc5-c8ce2c1f5d56",
   "metadata": {},
   "source": [
    "### Create probability tables for ideal states"
   ]
  },
  {
   "cell_type": "code",
   "execution_count": 91,
   "id": "8b295570-d866-415c-934c-ef4d22ab0f8d",
   "metadata": {},
   "outputs": [
    {
     "name": "stderr",
     "output_type": "stream",
     "text": [
      "100%|███████████████████████████████████████████████████████████████████████████████| 1000/1000 [00:20<00:00, 49.03it/s]\n"
     ]
    }
   ],
   "source": [
    "#simulate witness tomogram - with ideal states\n",
    "# get_probabilities(rho_extr_3cpy_sw, fullmstrs3cpy[0])\n",
    "# big_prob_table = np.zeros((1000, 128, 512))\n",
    "\n",
    "# #this the idea, but these loop on CPU in python are slow\n",
    "# #instead we do vectorization and run it using torch\n",
    "# for (i, j, k) in tqdm(itertools.product(range(10), repeat=3), total=1000):\n",
    "#     _big_index = (i*100 + j*10 + k)\n",
    "#     _rho = kron(rhos_first_copy[i], rhos_first_copy[j], rhos_first_copy[k])\n",
    "#     for l, m in enumerate(fullmstrs3cpy):\n",
    "#         big_prob_table[_big_index, l, :] = get_probabilities(_rho, m)     \n",
    "# np.save('_prob_table_cache.npy', big_prob_table)\n",
    "\n",
    "with tr.no_grad():        \n",
    "    # big_prob_table = np.zeros((1000, len(fullmstrs3cpy), 512), dtype=np.float32) #~500 MB\n",
    "    big_prob_table_gpu_ideal = tr.zeros((1000, len(fullmstrs3cpy), 512), dtype=tr.float64, device='cuda')\n",
    "    big_state_table_gpu_ideal = tr.zeros((1000, 512*512), dtype=tr.complex128, device='cuda')\n",
    "\n",
    "    #prepare individual density matrices into a nice linearized table\n",
    "    for (_i, _j, _k) in tqdm((itertools.product(range(10), repeat=3)), total=1000):\n",
    "        _big_index = (_i*100 + _j*10 + _k)\n",
    "        _rho = ApplyOp(kron(theo_rhos_3q_list[_i], theo_rhos_3q_list[_j], theo_rhos_3q_list[_k]), swap_9q)\n",
    "        big_state_table_gpu_ideal[_big_index, :] = tr.from_numpy(_rho.ravel())"
   ]
  },
  {
   "cell_type": "code",
   "execution_count": 92,
   "id": "87a4b94d-d597-4f1a-91ee-84ddd508e43a",
   "metadata": {},
   "outputs": [
    {
     "name": "stderr",
     "output_type": "stream",
     "text": [
      "100%|█████████████████████████████████████████████████████████████████████████████████| 128/128 [06:16<00:00,  2.94s/it]\n"
     ]
    }
   ],
   "source": [
    "with tr.no_grad():   \n",
    "    for mindex, mstring in tqdm(enumerate(fullmstrs3cpy), total=128):\n",
    "        # print(mindex, mstring)\n",
    "        #generate projection table    \n",
    "        _proj_table = np.zeros((512*512,512), dtype=np.complex128) #2 GB of memory if using complex128\n",
    "        #this is slow and could be optimized further, but meh\n",
    "        for _i, ket in enumerate(base_string_to_proj(mstring)):\n",
    "            _proj_table[:,_i] = (ket @ ket.T.conj()).T.ravel()\n",
    "        _proj_table_gpu = tr.from_numpy(_proj_table).cuda()\n",
    "        #and use it to predict probabilities on rho\n",
    "        big_prob_table_gpu_ideal[:,mindex,:] = tr.matmul(big_state_table_gpu_ideal, _proj_table_gpu).real\n",
    "\n",
    "del big_state_table_gpu_ideal\n",
    "\n",
    "big_prob_table_cpu_ideal =  big_prob_table_gpu_ideal.cpu().numpy()\n",
    "np.save('_cached_big_prob_table_ideal.npy', big_prob_table_cpu_ideal)    "
   ]
  },
  {
   "cell_type": "code",
   "execution_count": 93,
   "id": "11c75a40-ff38-40cc-a8bf-3d94cc22d231",
   "metadata": {},
   "outputs": [],
   "source": [
    "del big_prob_table_gpu_ideal"
   ]
  },
  {
   "cell_type": "code",
   "execution_count": 94,
   "id": "b9818639",
   "metadata": {},
   "outputs": [],
   "source": [
    "big_prob_table_cpu_ideal = np.load('_cached_big_prob_table_ideal.npy')"
   ]
  },
  {
   "cell_type": "markdown",
   "id": "31d27204-ec5d-4b71-b544-c4384fdf6f36",
   "metadata": {},
   "source": [
    "### Create tables for reconstructed"
   ]
  },
  {
   "cell_type": "code",
   "execution_count": 95,
   "id": "5a34dba0-3557-40a1-b198-aa8d7e9fac4d",
   "metadata": {},
   "outputs": [
    {
     "name": "stderr",
     "output_type": "stream",
     "text": [
      "100%|███████████████████████████████████████████████████████████████████████████████| 1000/1000 [00:21<00:00, 47.05it/s]\n"
     ]
    }
   ],
   "source": [
    "with tr.no_grad():        \n",
    "    # big_prob_table = np.zeros((1000, len(fullmstrs3cpy), 512), dtype=np.float32) #~500 MB\n",
    "    big_prob_table_gpu = tr.zeros((1000, len(fullmstrs3cpy), 512), dtype=tr.float64, device='cuda')\n",
    "    big_state_table_gpu = tr.zeros((1000, 512*512), dtype=tr.complex128, device='cuda')\n",
    "\n",
    "    #prepare individual density matrices into a nice linearized table\n",
    "    for (_i, _j, _k) in tqdm((itertools.product(range(10), repeat=3)), total=1000):\n",
    "        _big_index = (_i*100 + _j*10 + _k)\n",
    "        _rho = ApplyOp(kron(rhos_first_copy[_i], rhos_first_copy[_j], rhos_third_copy[_k]), swap_9q)\n",
    "        big_state_table_gpu[_big_index, :] = tr.from_numpy(_rho.ravel())"
   ]
  },
  {
   "cell_type": "code",
   "execution_count": 96,
   "id": "507b2027-1fb3-4be1-ad5f-5d8efa76e19f",
   "metadata": {},
   "outputs": [
    {
     "name": "stderr",
     "output_type": "stream",
     "text": [
      "100%|█████████████████████████████████████████████████████████████████████████████████| 128/128 [06:19<00:00,  2.96s/it]\n"
     ]
    }
   ],
   "source": [
    "with tr.no_grad():   \n",
    "    for mindex, mstring in tqdm(enumerate(fullmstrs3cpy),total=128):\n",
    "        # print(mindex, mstring)\n",
    "        #generate projection table    \n",
    "        _proj_table = np.zeros((512*512,512), dtype=np.complex128)\n",
    "        #this is slow and could be optimized further, but meh\n",
    "        for _i, ket in enumerate(base_string_to_proj(mstring)):\n",
    "            _proj_table[:,_i] = (ket @ ket.T.conj()).T.ravel()\n",
    "        _proj_table_gpu = tr.from_numpy(_proj_table).cuda()\n",
    "        #and use it to predict probabilities on rho\n",
    "        big_prob_table_gpu[:,mindex,:] = tr.matmul(big_state_table_gpu, _proj_table_gpu).real\n",
    "\n",
    "big_prob_table_cpu =  big_prob_table_gpu.cpu().numpy()\n",
    "del big_state_table_gpu\n",
    "del big_prob_table_gpu\n",
    "np.save('_cached_big_prob_table.npy', big_prob_table_cpu)    "
   ]
  },
  {
   "cell_type": "code",
   "execution_count": 107,
   "id": "4f038458",
   "metadata": {},
   "outputs": [
    {
     "data": {
      "text/plain": [
       "1.0000000000000002"
      ]
     },
     "execution_count": 107,
     "metadata": {},
     "output_type": "execute_result"
    }
   ],
   "source": [
    "np.sum(big_prob_table_cpu[0,0])"
   ]
  },
  {
   "cell_type": "code",
   "execution_count": 108,
   "id": "2ee42fb9",
   "metadata": {},
   "outputs": [],
   "source": [
    "weights_tree_copies = (weights_single_copy.reshape((10,1,1)) * weights_single_copy.reshape((1,10,1)) * weights_single_copy.reshape((1,1,10))).ravel()"
   ]
  },
  {
   "cell_type": "code",
   "execution_count": 109,
   "id": "facaac90",
   "metadata": {},
   "outputs": [],
   "source": [
    "def selfnorm(arr):\n",
    "    return arr/np.sum(arr)\n",
    "\n",
    "def sample_tomogram(shots, table, norm=True):\n",
    "    new_tomo = np.zeros_like(table, dtype=np.float32)\n",
    "    for i, subtable in enumerate(table):\n",
    "        for j, line in enumerate(subtable):\n",
    "            nline = np.clip(line.astype(np.float64),0,1)\n",
    "            nline /= np.sum(nline)\n",
    "            new_tomo[i,j] = np.random.multinomial(shots, nline)        \n",
    "    if norm:\n",
    "        new_tomo /= np.sum(new_tomo, axis=2).reshape((table.shape[0], table.shape[1], 1))\n",
    "    return new_tomo\n",
    "\n",
    "def process_tomo(tomo):\n",
    "    wghtd_tomo = np.sum(tomo * weights_tree_copies.reshape((1000,1,1)), axis=0)\n",
    "    expval = np.sum(wghtd_tomo * walsh3cpy, axis=1)\n",
    "    return wwghst3cpy @ expval\n",
    "    "
   ]
  },
  {
   "cell_type": "code",
   "execution_count": 100,
   "id": "1b5f833a",
   "metadata": {},
   "outputs": [
    {
     "name": "stderr",
     "output_type": "stream",
     "text": [
      "100%|█████████████████████████████████████████████████████████████████████████████████████| 1/1 [00:03<00:00,  3.50s/it]"
     ]
    },
    {
     "name": "stdout",
     "output_type": "stream",
     "text": [
      "-0.4351453151726786\n",
      "0.0\n",
      "-0.4351453151726786\n",
      "-0.4351453151726786\n"
     ]
    },
    {
     "name": "stderr",
     "output_type": "stream",
     "text": [
      "\n"
     ]
    }
   ],
   "source": [
    "# ideal states, many shots, 1 monte carlo sample\n",
    "monte_carlo_samples = 1\n",
    "shots = 512*1000\n",
    "witness_samples = np.array([process_tomo(sample_tomogram(shots, big_prob_table_cpu_ideal, True)) for i in tqdm(range(monte_carlo_samples))])\n",
    "print(np.mean(witness_samples))\n",
    "print(np.std(witness_samples))\n",
    "print(np.min(witness_samples))\n",
    "print(np.max(witness_samples))"
   ]
  },
  {
   "cell_type": "code",
   "execution_count": 101,
   "id": "5678a2f1",
   "metadata": {},
   "outputs": [
    {
     "name": "stderr",
     "output_type": "stream",
     "text": [
      "100%|█████████████████████████████████████████████████████████████████████████████████████| 1/1 [00:08<00:00,  8.19s/it]"
     ]
    },
    {
     "name": "stdout",
     "output_type": "stream",
     "text": [
      "-0.03559477645337844\n",
      "0.0\n",
      "-0.03559477645337844\n",
      "-0.03559477645337844\n"
     ]
    },
    {
     "name": "stderr",
     "output_type": "stream",
     "text": [
      "\n"
     ]
    }
   ],
   "source": [
    "# reconstructed states, many shots, 1 monte carlo sample\n",
    "monte_carlo_samples = 1\n",
    "shots = 512*1000\n",
    "witness_samples = np.array([process_tomo(sample_tomogram(shots, big_prob_table_cpu, True)) for i in tqdm(range(monte_carlo_samples))])\n",
    "print(np.mean(witness_samples))\n",
    "print(np.std(witness_samples))\n",
    "print(np.min(witness_samples))\n",
    "print(np.max(witness_samples))"
   ]
  },
  {
   "cell_type": "code",
   "execution_count": 102,
   "id": "64269efa-977c-4ee6-a7ff-580564bc57a4",
   "metadata": {},
   "outputs": [
    {
     "name": "stderr",
     "output_type": "stream",
     "text": [
      "100%|█████████████████████████████████████████████████████████████████████████████████| 100/100 [07:19<00:00,  4.40s/it]"
     ]
    },
    {
     "name": "stdout",
     "output_type": "stream",
     "text": [
      "-0.03308578135662888\n",
      "0.023054429614512602\n",
      "-0.09738604468401396\n",
      "0.017042056964755414\n"
     ]
    },
    {
     "name": "stderr",
     "output_type": "stream",
     "text": [
      "\n"
     ]
    }
   ],
   "source": [
    "# reconstructed states, 50 shots per state and meas, 100 monte carlo sample\n",
    "monte_carlo_samples = 100\n",
    "shots = 50\n",
    "witness_samples = np.array([process_tomo(sample_tomogram(shots, big_prob_table_cpu, True)) for i in tqdm(range(monte_carlo_samples))])\n",
    "print(np.mean(witness_samples))\n",
    "print(np.std(witness_samples))\n",
    "print(np.min(witness_samples))\n",
    "print(np.max(witness_samples))"
   ]
  },
  {
   "cell_type": "code",
   "execution_count": 103,
   "id": "fd0d3c11-86ba-44b8-8365-9737f11f6e6c",
   "metadata": {},
   "outputs": [
    {
     "data": {
      "text/plain": [
       "(array([ 1.,  3.,  3., 18., 13., 19., 14., 14., 12.,  3.]),\n",
       " array([-0.09738604, -0.08594323, -0.07450042, -0.06305761, -0.0516148 ,\n",
       "        -0.04017199, -0.02872918, -0.01728637, -0.00584356,  0.00559925,\n",
       "         0.01704206]),\n",
       " <BarContainer object of 10 artists>)"
      ]
     },
     "execution_count": 103,
     "metadata": {},
     "output_type": "execute_result"
    },
    {
     "data": {
      "image/png": "[encoded data removed]",
      "text/plain": [
       "<Figure size 640x480 with 1 Axes>"
      ]
     },
     "metadata": {},
     "output_type": "display_data"
    }
   ],
   "source": [
    "plt.hist(witness_samples)"
   ]
  },
  {
   "cell_type": "code",
   "execution_count": 104,
   "id": "ed4e9dec-f698-4604-bfe2-d89705e495aa",
   "metadata": {},
   "outputs": [
    {
     "name": "stderr",
     "output_type": "stream",
     "text": [
      "100%|█████████████████████████████████████████████████████████████████████████████████| 100/100 [05:04<00:00,  3.05s/it]"
     ]
    },
    {
     "name": "stdout",
     "output_type": "stream",
     "text": [
      "-0.4340506385751842\n",
      "0.023849144392745755\n",
      "-0.48964233714173405\n",
      "-0.3522442598975606\n"
     ]
    },
    {
     "name": "stderr",
     "output_type": "stream",
     "text": [
      "\n"
     ]
    }
   ],
   "source": [
    "# reconstructed states, 50 shots per state and meas, 100 monte carlo sample\n",
    "monte_carlo_samples = 100\n",
    "shots = 50\n",
    "witness_samples = np.array([process_tomo(sample_tomogram(shots, big_prob_table_cpu_ideal, True)) for i in tqdm(range(monte_carlo_samples))])\n",
    "print(np.mean(witness_samples))\n",
    "print(np.std(witness_samples))\n",
    "print(np.min(witness_samples))\n",
    "print(np.max(witness_samples))"
   ]
  },
  {
   "cell_type": "code",
   "execution_count": 105,
   "id": "3234d7e3-3405-4626-8833-1826287f1821",
   "metadata": {},
   "outputs": [
    {
     "data": {
      "text/plain": [
       "(array([ 4.,  6., 20., 19., 30., 12.,  3.,  3.,  2.,  1.]),\n",
       " array([-0.48964234, -0.47590253, -0.46216272, -0.44842291, -0.43468311,\n",
       "        -0.4209433 , -0.40720349, -0.39346368, -0.37972388, -0.36598407,\n",
       "        -0.35224426]),\n",
       " <BarContainer object of 10 artists>)"
      ]
     },
     "execution_count": 105,
     "metadata": {},
     "output_type": "execute_result"
    },
    {
     "data": {
      "image/png": "[encoded data removed]",
      "text/plain": [
       "<Figure size 640x480 with 1 Axes>"
      ]
     },
     "metadata": {},
     "output_type": "display_data"
    }
   ],
   "source": [
    "plt.hist(witness_samples)"
   ]
  },
  {
   "cell_type": "code",
   "execution_count": null,
   "id": "2869bf59-a432-48ec-993e-b37b526c22ed",
   "metadata": {},
   "outputs": [],
   "source": []
  }
 ],
 "metadata": {
  "kernelspec": {
   "display_name": "Python 3 (ipykernel)",
   "language": "python",
   "name": "python3"
  },
  "language_info": {
   "codemirror_mode": {
    "name": "ipython",
    "version": 3
   },
   "file_extension": ".py",
   "mimetype": "text/x-python",
   "name": "python",
   "nbconvert_exporter": "python",
   "pygments_lexer": "ipython3",
   "version": "3.10.12"
  }
 },
 "nbformat": 4,
 "nbformat_minor": 5
}
