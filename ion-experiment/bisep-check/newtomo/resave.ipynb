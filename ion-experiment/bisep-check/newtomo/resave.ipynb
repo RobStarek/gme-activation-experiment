{
 "cells": [
  {
   "cell_type": "code",
   "execution_count": 8,
   "id": "899d87dd",
   "metadata": {},
   "outputs": [],
   "source": [
    "import itertools\n",
    "import numpy as np\n",
    "import h5py\n",
    "import matplotlib.pyplot as plt\n",
    "\n",
    "lintrap_order = 'XYZ'\n",
    "state_order = ['a1','a2','a3','a4','b1','b2','b3','b4','c1','c2']\n",
    "data024 = np.load('3Tomo_024.npy')\n",
    "data531 = np.load('3Tomo_531.npy')\n",
    "\n",
    "tomo_order = [''.join(mstr) for mstr in itertools.product(lintrap_order, repeat=3)]\n",
    "\n",
    "\n",
    "with h5py.File('three_qubit_tomograms.h5', 'w') as h5:\n",
    "    ds1 = h5.create_dataset('ions_024', data = data024)\n",
    "    ds2 = h5.create_dataset('ions_531', data = data531)\n",
    "    for dsi in (ds1, ds2):\n",
    "        dsi.attrs.create('tomo_order', tomo_order)\n",
    "        dsi.attrs.create('state_order', state_order)\n",
    "    "
   ]
  },
  {
   "cell_type": "code",
   "execution_count": null,
   "id": "1e0e400e",
   "metadata": {},
   "outputs": [
    {
     "data": {
      "text/plain": [
       "(10, 27, 8)"
      ]
     },
     "execution_count": 3,
     "metadata": {},
     "output_type": "execute_result"
    }
   ],
   "source": []
  },
  {
   "cell_type": "code",
   "execution_count": null,
   "id": "d04c1f64",
   "metadata": {},
   "outputs": [],
   "source": []
  }
 ],
 "metadata": {
  "kernelspec": {
   "display_name": "base",
   "language": "python",
   "name": "python3"
  },
  "language_info": {
   "codemirror_mode": {
    "name": "ipython",
    "version": 3
   },
   "file_extension": ".py",
   "mimetype": "text/x-python",
   "name": "python",
   "nbconvert_exporter": "python",
   "pygments_lexer": "ipython3",
   "version": "3.9.13"
  }
 },
 "nbformat": 4,
 "nbformat_minor": 5
}
