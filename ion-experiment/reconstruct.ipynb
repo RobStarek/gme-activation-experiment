{
 "cells": [
  {
   "cell_type": "markdown",
   "id": "15e43476",
   "metadata": {},
   "source": [
    "# Quantum state reconstruction of the three-qubit constituents\n",
    "\n",
    "In this notebook we use maximum-likelihood algorithm to reconstruct the three-qubit constituent states.\n",
    "We will then resample the tomograms, assuming multinomial distribution and reconstruct each of them, saving the density matrices into h5 file.\n",
    "\n",
    "These reconstructed density matrices will be subsequently analyzed for biseparability, fidelity, and other figures of merit."
   ]
  },
  {
   "cell_type": "code",
   "execution_count": 1,
   "id": "0494849e",
   "metadata": {},
   "outputs": [
    {
     "name": "stdout",
     "output_type": "stream",
     "text": [
      "MaxLik: Numba Allowed: True => use cycle-based K-vector construction\n"
     ]
    }
   ],
   "source": [
    "import itertools\n",
    "import numpy as np\n",
    "import MaxLik as ml\n",
    "import matplotlib.pyplot as plt\n",
    "import h5py\n",
    "from tqdm import tqdm\n",
    "\n",
    "MC_SAMPLES = 100\n",
    "ML_ITERS = 1000\n",
    "ML_THR = 1e-12\n",
    "SHOTS = 200\n",
    "\n",
    "LO = np.array([[1],[0]])\n",
    "HI = np.array([[0],[1]])\n",
    "HLO = (LO+HI)*(2**-.5)\n",
    "HHI = (LO-HI)*(2**-.5)\n",
    "CLO = (LO+1j*HI)*(2**-.5)\n",
    "CHI = (LO-1j*HI)*(2**-.5)\n",
    "\n",
    "\n",
    "def kron(*arrays) -> np.ndarray:\n",
    "    \"\"\"\n",
    "    Multiple Kronecker (tensor) product.\n",
    "    Multiplication is performed from left.    \n",
    "    \"\"\"\n",
    "    E = np.eye(1, dtype=complex)\n",
    "    for M in arrays:\n",
    "        E = np.kron(E,M)\n",
    "    return E\n",
    "\n",
    "\n",
    "eigenbase_dict = {\n",
    "    'I' : ((LO, HI), (1,1)),\n",
    "    'X' : ((HLO, HHI), (1,-1)), #no sign flip\n",
    "    'Y' : ((CLO, CHI),(1,-1)),\n",
    "    'Z' : ((LO, HI), (1,-1)),\n",
    "}\n",
    "\n",
    "def base_string_to_proj(string : str) -> list:\n",
    "    \"\"\"\n",
    "    Input measurement string and get projection operators corresponding to that string, \n",
    "    all combinations that can happen.    \n",
    "    \"\"\"\n",
    "    eigenvects = [eigenbase_dict.get(b)[0] for b in string]\n",
    "    proj_kets = [kron(*vecs) for i, vecs in enumerate(itertools.product(*eigenvects))]\n",
    "    return proj_kets\n",
    "\n"
   ]
  },
  {
   "cell_type": "code",
   "execution_count": 2,
   "id": "ab89d6a2",
   "metadata": {},
   "outputs": [],
   "source": [
    "#Load tomographic data\n",
    "with h5py.File('data/three_qubit_tomograms.h5') as h5:\n",
    "    data_024 = np.array(h5['ions_024'])\n",
    "    data_531 = np.array(h5['ions_531'])\n",
    "    meas_order = list(h5['ions_024'].attrs['tomo_order'])\n",
    "    state_order = list(h5['ions_024'].attrs['state_order'])\n",
    "\n",
    "meas_eigenkets = np.array([base_string_to_proj(mstr) for mstr in meas_order])\n",
    "meas_eigenkets = meas_eigenkets.reshape((27*8, 8, 1))"
   ]
  },
  {
   "cell_type": "code",
   "execution_count": 3,
   "id": "3f83a302",
   "metadata": {},
   "outputs": [],
   "source": [
    "#Reconstruct experimentally observed data\n",
    "rho_seed_024 = np.array([ml.Reconstruct(tomogram.ravel(), meas_eigenkets, ML_ITERS, ML_THR) for tomogram in data_024])\n",
    "rho_seed_531 = np.array([ml.Reconstruct(tomogram.ravel(), meas_eigenkets, ML_ITERS, ML_THR) for tomogram in data_531])"
   ]
  },
  {
   "cell_type": "code",
   "execution_count": 4,
   "id": "45a0338b",
   "metadata": {},
   "outputs": [
    {
     "name": "stdout",
     "output_type": "stream",
     "text": [
      "Processing dataset: 024\n"
     ]
    },
    {
     "name": "stderr",
     "output_type": "stream",
     "text": [
      "100%|██████████| 100/100 [02:11<00:00,  1.31s/it]\n"
     ]
    },
    {
     "name": "stdout",
     "output_type": "stream",
     "text": [
      "Processing dataset: 531\n"
     ]
    },
    {
     "name": "stderr",
     "output_type": "stream",
     "text": [
      "100%|██████████| 100/100 [02:21<00:00,  1.41s/it]"
     ]
    },
    {
     "name": "stdout",
     "output_type": "stream",
     "text": [
      "Done\n"
     ]
    },
    {
     "name": "stderr",
     "output_type": "stream",
     "text": [
      "\n"
     ]
    }
   ],
   "source": [
    "#Do Monte-Carlo resampling of tomograms and reconstruct them\n",
    "\n",
    "#fix seed number for reproducibility\n",
    "rng = np.random.default_rng(seed=24092025)\n",
    "\n",
    "def multiaxis_multinomial(arr, rng, samples, shots):\n",
    "    \"\"\"\n",
    "    Support for multiple axes in rng.multinomial for older numpy version.\n",
    "    \"\"\"\n",
    "    shape = arr.shape\n",
    "    new_shape = (-1, shape[-1])\n",
    "    temp_arr = np.array([rng.multinomial(shots, line, size=samples) for line in arr.reshape(new_shape)])\n",
    "    return temp_arr.swapaxes(0,1).reshape((samples, *shape))\n",
    "\n",
    "labels = ('024', '531')\n",
    "\n",
    "with h5py.File('data/reconstructed_three_qubit_states.h5', 'w') as h5:\n",
    "    dset_orig_1 = h5.create_dataset(f'rho_024', data=rho_seed_024)\n",
    "    dset_orig_2 = h5.create_dataset(f'rho_531', data=rho_seed_531)\n",
    "    h5.flush()\n",
    "\n",
    "    for label, dataset in zip(labels, (data_024, data_531)):    \n",
    "        print(f'Processing dataset: {label}')\n",
    "        _dset = h5.create_dataset(f'rhos_{label}', shape=(MC_SAMPLES, 10, 8, 8), dtype=complex)\n",
    "        #in modern numpy versions just use\n",
    "        #mc_tomograms = rng.multinomial(SHOTS, dataset, size=(MC_SAMPLES,10,27)).reshape((MC_SAMPLES, 10, -1))\n",
    "        sampled_tomograms = multiaxis_multinomial(dataset, rng, MC_SAMPLES, SHOTS)\n",
    "        for i, _sample in tqdm(enumerate(sampled_tomograms), total=MC_SAMPLES):\n",
    "            for j, _tomo in enumerate(_sample):\n",
    "                _rho = ml.Reconstruct(_tomo.ravel(), meas_eigenkets, ML_ITERS, ML_THR)\n",
    "                _dset[i,j] = _rho\n",
    "        h5.flush()\n",
    "print(\"Done\")"
   ]
  }
 ],
 "metadata": {
  "kernelspec": {
   "display_name": "base",
   "language": "python",
   "name": "python3"
  },
  "language_info": {
   "codemirror_mode": {
    "name": "ipython",
    "version": 3
   },
   "file_extension": ".py",
   "mimetype": "text/x-python",
   "name": "python",
   "nbconvert_exporter": "python",
   "pygments_lexer": "ipython3",
   "version": "3.9.13"
  }
 },
 "nbformat": 4,
 "nbformat_minor": 5
}
