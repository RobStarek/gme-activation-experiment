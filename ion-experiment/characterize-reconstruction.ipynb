{
 "cells": [
  {
   "cell_type": "markdown",
   "id": "fc8dd9de",
   "metadata": {},
   "source": [
    "# Single-copy state characterization\n",
    "\n",
    "* It loads reconstructed single-copy (three-qubit) data from  `data/reconstructed_three_qubit_states.h5` and calculates the following figures of merit:\n",
    "    * purity\n",
    "    * fidelity\n",
    "    * PPT criterion \n",
    "* The analysis is performed on Monte-Carlo samples to estimate the statistical uncertainty and mean value.\n",
    "* See `reconstruct.ipynb` to see how the Monte-Carlo samples are acquired."
   ]
  },
  {
   "cell_type": "markdown",
   "id": "4d35c5bc",
   "metadata": {},
   "source": [
    "## Prerequisites and definitions"
   ]
  },
  {
   "cell_type": "code",
   "execution_count": 1,
   "id": "d6ee987b",
   "metadata": {},
   "outputs": [],
   "source": [
    "import itertools\n",
    "import dataclasses\n",
    "from enum import IntEnum\n",
    "import numpy as np\n",
    "import scipy\n",
    "import matplotlib.pyplot as plt\n",
    "import h5py\n",
    "from scipy.optimize import minimize\n",
    "import departed\n",
    "from bisep_checker import (\n",
    "    check_bisep,\n",
    "    partitions,\n",
    "    EPSILON,\n",
    "    dagger,\n",
    "    ketbra,\n",
    "    kron,\n",
    "    theo_rhos_3q,\n",
    "    BinKet,\n",
    "    HLO,\n",
    "    HHI,\n",
    "    LO,\n",
    "    HI,\n",
    "    CLO,\n",
    "    CHI,\n",
    "    purity,\n",
    ")\n",
    "from IPython.display import Math, Markdown\n",
    "\n",
    "\n",
    "def psd_projection(r: np.ndarray) -> np.ndarray:\n",
    "    # force Hermiteanity\n",
    "    hr = (r + r.T.conj()) * 0.5\n",
    "    # do spectral decomposition\n",
    "    evals, evecs = np.linalg.eigh(hr)\n",
    "    # clip negative eigenvalues, 1e-16 is numerical epsilon\n",
    "    devals = np.diag(np.clip(evals.real, 1e-16, None))\n",
    "    # project to PSD matrix\n",
    "    rp = evecs @ devals @ evecs.T.conj()\n",
    "    # renorm and return\n",
    "    return rp / np.trace(rp.real)\n",
    "\n",
    "def purity(rho):\n",
    "    return np.trace(rho @ rho).real\n",
    "\n",
    "\n",
    "def gramm_schmidt(X, row_vecs=False, norm=True):\n",
    "    \"\"\"\n",
    "    Vectorized Gramm-Schmidt orthogonalization.\n",
    "    Creates an orthonormal system of vectors spanning the same vector space\n",
    "    which is spanned by vectors in matrix X.\n",
    "\n",
    "    Args:\n",
    "        X: matrix of vectors\n",
    "        row_vecs: are vectors store as line vectors? (if not, then use column vectors)\n",
    "        norm: normalize vector to unit size\n",
    "    Returns:\n",
    "        Y: matrix of orthogonalized vectors\n",
    "    Source: https://gist.github.com/iizukak/1287876#gistcomment-1348649\n",
    "    \"\"\"\n",
    "    if not row_vecs:\n",
    "        X = X.T\n",
    "    Y = X[0:1, :].copy()\n",
    "    for i in range(1, X.shape[0]):\n",
    "        proj = np.diag((X[i, :].dot(Y.T.conj()) / np.linalg.norm(Y, axis=1) ** 2).flat).dot(Y)\n",
    "        Y = np.vstack((Y, X[i, :] - proj.sum(0)))\n",
    "    if norm:\n",
    "        Y = np.diag(1 / np.linalg.norm(Y, axis=1)).dot(Y)\n",
    "    if row_vecs:\n",
    "        return Y\n",
    "    else:\n",
    "        return Y.T\n",
    "\n",
    "def sqrtm(M):\n",
    "    \"\"\"\n",
    "    Matrix square root of density matrix M.\n",
    "    Calculation is based on eigen-decomposition.    \n",
    "    \"\"\"\n",
    "    Di, Rot = np.linalg.eig(M)\n",
    "    rank = np.sum((np.abs(Di) > 2*np.finfo(float).eps))\n",
    "    Di = np.sqrt(Di)\n",
    "    Di[np.isnan(Di)] = 0\n",
    "    Di = np.diag(Di)\n",
    "    if (rank == M.shape[0]):\n",
    "        #Full rank => Hermitean transposition is actually inversion\n",
    "        RotInv = Rot.T.conjugate()\n",
    "    elif rank == 1:\n",
    "        #Rank 1 => The state is pure and the matrix is it's own square-root.\n",
    "        return M\n",
    "    else:\n",
    "        #(1 < Rank < dimension) => at least one eigenvalue is zero, orthogonalize found unitary\n",
    "        #in order to perform Hermitean inversion of the rotation matrix\n",
    "        #If this was not the case, zero eigenvalue can correspond to \n",
    "        #arbitrary vector which would destroy unitarity of Rot matrix.\n",
    "        RotGs = gramm_schmidt(Rot, False, True)\n",
    "        RotInv = RotGs.T.conjugate()\n",
    "    N = np.dot(np.dot(Rot, Di), RotInv)\n",
    "    return N\n",
    "\n",
    "def fidelity(A, B):\n",
    "    \"\"\"\n",
    "    Fidelity between density matrices A, B.\n",
    "    Accepts both mixed. If A or B is pure, consider using Overlap().\n",
    "    \"\"\"\n",
    "    #A0 = sqrtm(A)\n",
    "    Ax = A/np.trace(A)\n",
    "    Bx = B/np.trace(B)\n",
    "    A0 = scipy.linalg.sqrtm(Ax)\n",
    "    #use scipy to do sqrtm, when it fails (for singular matrices), try KetSugars sqrtm method\n",
    "    if np.any(np.isnan(A0)):\n",
    "        A0 = sqrtm(Ax)    \n",
    "    A1 = (np.dot(np.dot(A0, Bx), A0))\n",
    "    A2 = scipy.linalg.sqrtm(A1)\n",
    "    if np.any(np.isnan(A2)):\n",
    "        A2 = sqrtm(A1)       \n",
    "    return np.abs(A2.trace())**2\n",
    "\n",
    "# check PPT\n",
    "def ppt(rho, pt : partitions):\n",
    "    if pt == partitions.A_BC:\n",
    "        mask1 = [1,0,0]\n",
    "    elif pt == partitions.AC_B:\n",
    "        mask1 = [0,1,0]\n",
    "    elif pt == partitions.AB_C:\n",
    "        mask1 = [0,0,1]        \n",
    "    else:\n",
    "        print(\"Ooops!\")\n",
    "        raise\n",
    "    \n",
    "    rhopt = departed.ptranspose(rho, [2]*3, mask1)\n",
    "    mineig = np.min(np.linalg.eigvalsh(rhopt))\n",
    "    return mineig\n",
    "# check PPT\n",
    "def ppt(rho, pt : partitions):\n",
    "    if pt == partitions.A_BC:\n",
    "        mask1 = [1,0,0]\n",
    "    elif pt == partitions.AC_B:\n",
    "        mask1 = [0,1,0]\n",
    "    elif pt == partitions.AB_C:\n",
    "        mask1 = [0,0,1]        \n",
    "    else:\n",
    "        print(\"Ooops!\")\n",
    "        raise\n",
    "    \n",
    "    rhopt = departed.ptranspose(rho, [2]*3, mask1)\n",
    "    mineig = np.min(np.linalg.eigvalsh(rhopt))\n",
    "    return mineig\n",
    "\n",
    "\n",
    "\n",
    "@dataclasses.dataclass\n",
    "class aggregated_result():\n",
    "    mean : float\n",
    "    median : float\n",
    "    std : float\n",
    "    q158 : float\n",
    "    q842 : float\n",
    "\n",
    "    @classmethod\n",
    "    def from_array(cls, arr):\n",
    "        return cls(\n",
    "            mean = np.mean(arr),\n",
    "            median = np.median(arr),\n",
    "            std = np.std(arr),\n",
    "            q158 = np.quantile(arr, q=0.158),\n",
    "            q842 = np.quantile(arr, q=0.842)\n",
    "        )\n",
    "\n",
    "    def format_to_error_q(self, median=None):\n",
    "        if median is None:\n",
    "            mean = self.median\n",
    "        else:\n",
    "            mean = median\n",
    "        lo = self.q158\n",
    "        hi = self.q842\n",
    "        dlo = mean - lo\n",
    "        dhi = hi - mean\n",
    "        significant_order = int(min(np.floor(np.log10(abs(dlo))), np.floor(np.log10(abs(dhi)))))\n",
    "        exponent = 10**(-significant_order)\n",
    "        rounded_mean = int(round(exponent*mean))\n",
    "        rounded_dlo = int(round(exponent*dlo))\n",
    "        rounded_dhi = int(round(exponent*dhi))\n",
    "        repre = f'$({rounded_mean:d}^{{ +{rounded_dhi}}}_{{-{rounded_dlo} }}) \\cdot 10^{{ {significant_order:d} }}$'\n",
    "        return repre\n",
    "    \n",
    "    def format_to_error_std(self, median=None):\n",
    "        if median is None:\n",
    "            mean = self.median\n",
    "        else:\n",
    "            mean = median\n",
    "        std = self.std\n",
    "        significant_order = int(np.floor(np.log10(abs(std))))\n",
    "        exponent = 10**(-significant_order)\n",
    "        rounded_mean = int(round(exponent*mean))\n",
    "        rounded_std = int(round(exponent*std))        \n",
    "        repre = f'$({rounded_mean:d}\\pm {rounded_std}) \\cdot 10^{{ {significant_order:d} }}$'\n",
    "        return repre\n",
    "        \n",
    "    def display_in_notebook_q(self, median=None):\n",
    "        latex = self.format_to_error_q(median=median)\n",
    "        latex_code_md = f'```latex\\n{latex}\\n```'\n",
    "        display(Math(latex))\n",
    "        display(Markdown(latex_code_md))\n",
    "\n",
    "    def display_in_notebook_std(self, median=None):\n",
    "        latex = self.format_to_error_std(median=median)\n",
    "        latex_code_md = f'```latex\\n{latex}\\n```'\n",
    "        display(Math(latex))\n",
    "        display(Markdown(latex_code_md))"
   ]
  },
  {
   "cell_type": "code",
   "execution_count": 7,
   "id": "44ea704f",
   "metadata": {},
   "outputs": [],
   "source": [
    "# Load ML-reconstructed single-copy constituent states as a single numpy array\n",
    "with h5py.File(\"data/reconstructed_three_qubit_states.h5\") as h5f:\n",
    "    rhos_single_copy_024 = np.array(h5f[\"rho_024\"])\n",
    "    rhos_single_copy_531 = np.array(h5f[\"rho_531\"])\n",
    "\n",
    "# Load tomogram files, just to pick the saved state order\n",
    "with h5py.File('data/three_qubit_tomograms.h5') as h5f:\n",
    "    state_order = list(h5f[\"ions_024\"].attrs.get(\"state_order\", []))\n",
    "\n",
    "rhos_single_copy_024 = np.array([psd_projection(_r) for _r in rhos_single_copy_024])\n",
    "rhos_single_copy_531 = np.array([psd_projection(_r) for _r in rhos_single_copy_531])"
   ]
  },
  {
   "cell_type": "code",
   "execution_count": 8,
   "id": "10c1f797",
   "metadata": {},
   "outputs": [],
   "source": [
    "#mixing factor\n",
    "q = 0.06\n",
    "wghts = [(1-q)/8]*8 + [q/2]*2\n",
    "\n",
    "#mix together the constituent states\n",
    "rho_exp_024 = sum([w*r for r, w in zip(rhos_single_copy_024, wghts)])\n",
    "rho_exp_531 = sum([w*r for r, w in zip(rhos_single_copy_531, wghts)])\n",
    "rho_theo = sum([w*theo_rhos_3q[key] for key, w in zip(theo_rhos_3q, wghts)])"
   ]
  },
  {
   "cell_type": "code",
   "execution_count": 10,
   "id": "39978a65",
   "metadata": {},
   "outputs": [],
   "source": [
    "with h5py.File(\"data/reconstructed_three_qubit_states.h5\") as h5f:\n",
    "    rhos_single_copy_024 = np.array(h5f[\"rhos_024\"])\n",
    "    rhos_single_copy_531 = np.array(h5f[\"rhos_531\"])\n",
    "    rho_seed_024 = np.array(h5f[\"rho_024\"])\n",
    "    rho_seed_531 = np.array(h5f[\"rho_531\"])\n",
    "    \n",
    "rho_exp_024 = sum([w*r for r, w in zip(rho_seed_024, wghts)])\n",
    "rho_exp_531 = sum([w*r for r, w in zip(rho_seed_531, wghts)])\n",
    "\n",
    "wghts = np.array(wghts)\n",
    "rhos_single_copy_024_summed = np.sum(rhos_single_copy_024 * wghts.reshape((1,10,1,1)), axis=1)\n",
    "rhos_single_copy_531_summed = np.sum(rhos_single_copy_531 * wghts.reshape((1,10,1,1)), axis=1)"
   ]
  },
  {
   "cell_type": "markdown",
   "id": "bc790de0",
   "metadata": {},
   "source": [
    "## Print purity "
   ]
  },
  {
   "cell_type": "code",
   "execution_count": 11,
   "id": "1055bf15",
   "metadata": {},
   "outputs": [
    {
     "name": "stdout",
     "output_type": "stream",
     "text": [
      "theo 0.27792499999999987\n",
      "seed1 0.25228982944625555\n",
      "seed2 0.2544540800405938\n",
      "0.25264928756447874 0.00218382332458198\n"
     ]
    },
    {
     "data": {
      "text/latex": [
       "$\\displaystyle (252^{ +2}_{-2 }) \\cdot 10^{ -3 }$"
      ],
      "text/plain": [
       "<IPython.core.display.Math object>"
      ]
     },
     "metadata": {},
     "output_type": "display_data"
    },
    {
     "data": {
      "text/markdown": [
       "```latex\n",
       "$(252^{ +2}_{-2 }) \\cdot 10^{ -3 }$\n",
       "```"
      ],
      "text/plain": [
       "<IPython.core.display.Markdown object>"
      ]
     },
     "metadata": {},
     "output_type": "display_data"
    },
    {
     "name": "stdout",
     "output_type": "stream",
     "text": [
      "0.25436283209519633 0.0024172749089337972\n"
     ]
    },
    {
     "data": {
      "text/latex": [
       "$\\displaystyle (254^{ +2}_{-2 }) \\cdot 10^{ -3 }$"
      ],
      "text/plain": [
       "<IPython.core.display.Math object>"
      ]
     },
     "metadata": {},
     "output_type": "display_data"
    },
    {
     "data": {
      "text/markdown": [
       "```latex\n",
       "$(254^{ +2}_{-2 }) \\cdot 10^{ -3 }$\n",
       "```"
      ],
      "text/plain": [
       "<IPython.core.display.Markdown object>"
      ]
     },
     "metadata": {},
     "output_type": "display_data"
    }
   ],
   "source": [
    "#Assess purity\n",
    "\n",
    "\n",
    "#Theoretical\n",
    "P_theo = np.trace(rho_theo @ rho_theo).real\n",
    "print('theo', P_theo)\n",
    "\n",
    "#Seed 1\n",
    "print('seed1', purity(rho_exp_024))\n",
    "\n",
    "#Seed 2\n",
    "print('seed2', purity(rho_exp_531))\n",
    "\n",
    "#Monte carlo samples\n",
    "purs_024 = np.array([purity(r) for r in rhos_single_copy_024_summed])\n",
    "pur_stat_024 = aggregated_result.from_array(purs_024)\n",
    "print(pur_stat_024.mean, pur_stat_024.std)\n",
    "pur_stat_024.display_in_notebook_q(purity(rho_exp_024))\n",
    "\n",
    "#Monte carlo samples\n",
    "purs_531 = np.array([purity(r) for r in rhos_single_copy_531_summed])\n",
    "pur_stat_531 = aggregated_result.from_array(purs_531)\n",
    "print(pur_stat_531.mean, pur_stat_531.std)\n",
    "pur_stat_531.display_in_notebook_q(purity(rho_exp_531))\n"
   ]
  },
  {
   "cell_type": "markdown",
   "id": "b77dd371",
   "metadata": {},
   "source": [
    "## Assess fidelity"
   ]
  },
  {
   "cell_type": "code",
   "execution_count": 12,
   "id": "7791be52",
   "metadata": {},
   "outputs": [
    {
     "data": {
      "text/plain": [
       "0.9862166323710658"
      ]
     },
     "execution_count": 12,
     "metadata": {},
     "output_type": "execute_result"
    }
   ],
   "source": [
    "fidelity(rho_exp_024, rho_exp_531)"
   ]
  },
  {
   "cell_type": "code",
   "execution_count": 13,
   "id": "8766e6b6",
   "metadata": {},
   "outputs": [
    {
     "name": "stdout",
     "output_type": "stream",
     "text": [
      "seed1 0.9746040710716742\n",
      "seed2 0.9870302471899676\n",
      "MC1\n",
      "0.9750893717197558 0.0015118028527687241\n"
     ]
    },
    {
     "data": {
      "text/latex": [
       "$\\displaystyle (9746^{ +19}_{-9 }) \\cdot 10^{ -4 }$"
      ],
      "text/plain": [
       "<IPython.core.display.Math object>"
      ]
     },
     "metadata": {},
     "output_type": "display_data"
    },
    {
     "data": {
      "text/markdown": [
       "```latex\n",
       "$(9746^{ +19}_{-9 }) \\cdot 10^{ -4 }$\n",
       "```"
      ],
      "text/plain": [
       "<IPython.core.display.Markdown object>"
      ]
     },
     "metadata": {},
     "output_type": "display_data"
    },
    {
     "data": {
      "text/latex": [
       "$\\displaystyle (975^{ +1}_{-2 }) \\cdot 10^{ -3 }$"
      ],
      "text/plain": [
       "<IPython.core.display.Math object>"
      ]
     },
     "metadata": {},
     "output_type": "display_data"
    },
    {
     "data": {
      "text/markdown": [
       "```latex\n",
       "$(975^{ +1}_{-2 }) \\cdot 10^{ -3 }$\n",
       "```"
      ],
      "text/plain": [
       "<IPython.core.display.Markdown object>"
      ]
     },
     "metadata": {},
     "output_type": "display_data"
    },
    {
     "name": "stdout",
     "output_type": "stream",
     "text": [
      "MC2\n",
      "0.9857418731835019 0.0014005107383316831\n"
     ]
    },
    {
     "data": {
      "text/latex": [
       "$\\displaystyle (9870^{ +1}_{-24 }) \\cdot 10^{ -4 }$"
      ],
      "text/plain": [
       "<IPython.core.display.Math object>"
      ]
     },
     "metadata": {},
     "output_type": "display_data"
    },
    {
     "data": {
      "text/markdown": [
       "```latex\n",
       "$(9870^{ +1}_{-24 }) \\cdot 10^{ -4 }$\n",
       "```"
      ],
      "text/plain": [
       "<IPython.core.display.Markdown object>"
      ]
     },
     "metadata": {},
     "output_type": "display_data"
    },
    {
     "data": {
      "text/latex": [
       "$\\displaystyle (986^{ +1}_{-1 }) \\cdot 10^{ -3 }$"
      ],
      "text/plain": [
       "<IPython.core.display.Math object>"
      ]
     },
     "metadata": {},
     "output_type": "display_data"
    },
    {
     "data": {
      "text/markdown": [
       "```latex\n",
       "$(986^{ +1}_{-1 }) \\cdot 10^{ -3 }$\n",
       "```"
      ],
      "text/plain": [
       "<IPython.core.display.Markdown object>"
      ]
     },
     "metadata": {},
     "output_type": "display_data"
    }
   ],
   "source": [
    "## fidelity\n",
    "\n",
    "#Seed 1\n",
    "f1 = fidelity(rho_exp_024, rho_theo)\n",
    "print('seed1', f1)\n",
    "\n",
    "#Seed 2\n",
    "f2 = fidelity(rho_exp_531, rho_theo)\n",
    "print('seed2', f2)\n",
    "\n",
    "\n",
    "fids_024 = np.array([fidelity(r, rho_theo) for r in rhos_single_copy_024_summed])\n",
    "fids_531 = np.array([fidelity(r, rho_theo) for r in rhos_single_copy_531_summed])\n",
    "\n",
    "#Monte carlo samples\n",
    "print(\"MC1\")\n",
    "fids_stat_024 = aggregated_result.from_array(fids_024)\n",
    "print(fids_stat_024.mean, fids_stat_024.std)\n",
    "fids_stat_024.display_in_notebook_q(f1)\n",
    "fids_stat_024.display_in_notebook_q()\n",
    "\n",
    "print(\"MC2\")\n",
    "fids_stat_531 = aggregated_result.from_array(fids_531)\n",
    "print(fids_stat_531.mean, fids_stat_531.std)\n",
    "fids_stat_531.display_in_notebook_q(f2)\n",
    "fids_stat_531.display_in_notebook_q()\n"
   ]
  },
  {
   "cell_type": "code",
   "execution_count": 14,
   "id": "48a0e7aa",
   "metadata": {},
   "outputs": [
    {
     "name": "stdout",
     "output_type": "stream",
     "text": [
      "F_2 =  0.9742287214190596\n",
      "Extrapolated\n",
      "0.9611865491293008 0.002074658979692732\n"
     ]
    },
    {
     "data": {
      "text/latex": [
       "$\\displaystyle (962^{ +1}_{-2 }) \\cdot 10^{ -3 }$"
      ],
      "text/plain": [
       "<IPython.core.display.Math object>"
      ]
     },
     "metadata": {},
     "output_type": "display_data"
    },
    {
     "data": {
      "text/markdown": [
       "```latex\n",
       "$(962^{ +1}_{-2 }) \\cdot 10^{ -3 }$\n",
       "```"
      ],
      "text/plain": [
       "<IPython.core.display.Markdown object>"
      ]
     },
     "metadata": {},
     "output_type": "display_data"
    }
   ],
   "source": [
    "#Predicted overall fidelity\n",
    "\n",
    "rho_theo_both = np.kron(rho_theo, rho_theo)\n",
    "rho_exp_both = np.kron(rho_exp_531, rho_exp_531)\n",
    "\n",
    "fboth = fidelity(rho_theo_both, rho_exp_both)\n",
    "print('F_2 = ', fboth)\n",
    "\n",
    "fids_both = np.array([\n",
    "    fidelity(np.kron(r, s), rho_theo_both) \n",
    "    for r, s in zip(rhos_single_copy_024_summed, rhos_single_copy_531_summed)])\n",
    "\n",
    "print(\"Extrapolated\")\n",
    "fids_stat_both = aggregated_result.from_array(fids_both)\n",
    "print(fids_stat_both.mean, fids_stat_both.std)\n",
    "# fids_stat_both.display_in_notebook_q(fboth)\n",
    "fids_stat_both.display_in_notebook_q()"
   ]
  },
  {
   "cell_type": "markdown",
   "id": "459ecc24",
   "metadata": {},
   "source": [
    "## PPT"
   ]
  },
  {
   "cell_type": "code",
   "execution_count": 15,
   "id": "4f39dfb4",
   "metadata": {},
   "outputs": [
    {
     "name": "stdout",
     "output_type": "stream",
     "text": [
      "A_BC -0.11749999999999995\n",
      "AB_C -0.20499999999999993\n",
      "AC_B -0.11749999999999997\n"
     ]
    }
   ],
   "source": [
    "for pt in partitions:\n",
    "    print(pt.name, ppt(rho_theo, pt))\n",
    "    "
   ]
  },
  {
   "cell_type": "code",
   "execution_count": 16,
   "id": "4b359b3f",
   "metadata": {},
   "outputs": [
    {
     "name": "stdout",
     "output_type": "stream",
     "text": [
      "PPT 1\n",
      "-0.09447936273961244 A_BC\n",
      "-0.17089033662588535 AB_C\n",
      "-0.09524950306591506 AC_B\n",
      "-------------\n",
      "PPT 2\n",
      "-0.10321785140938713 A_BC\n",
      "-0.17670345251245614 AB_C\n",
      "-0.09422616450628417 AC_B\n",
      "----------\n",
      "********\n",
      "Partition: A_BC\n",
      "Copy 1:\n"
     ]
    },
    {
     "data": {
      "text/latex": [
       "$\\displaystyle (-94^{ +2}_{-3 }) \\cdot 10^{ -3 }$"
      ],
      "text/plain": [
       "<IPython.core.display.Math object>"
      ]
     },
     "metadata": {},
     "output_type": "display_data"
    },
    {
     "data": {
      "text/markdown": [
       "```latex\n",
       "$(-94^{ +2}_{-3 }) \\cdot 10^{ -3 }$\n",
       "```"
      ],
      "text/plain": [
       "<IPython.core.display.Markdown object>"
      ]
     },
     "metadata": {},
     "output_type": "display_data"
    },
    {
     "name": "stdout",
     "output_type": "stream",
     "text": [
      "Copy 2:\n"
     ]
    },
    {
     "data": {
      "text/latex": [
       "$\\displaystyle (-103^{ +3}_{-2 }) \\cdot 10^{ -3 }$"
      ],
      "text/plain": [
       "<IPython.core.display.Math object>"
      ]
     },
     "metadata": {},
     "output_type": "display_data"
    },
    {
     "data": {
      "text/markdown": [
       "```latex\n",
       "$(-103^{ +3}_{-2 }) \\cdot 10^{ -3 }$\n",
       "```"
      ],
      "text/plain": [
       "<IPython.core.display.Markdown object>"
      ]
     },
     "metadata": {},
     "output_type": "display_data"
    },
    {
     "name": "stdout",
     "output_type": "stream",
     "text": [
      "********\n",
      "Partition: AB_C\n",
      "Copy 1:\n"
     ]
    },
    {
     "data": {
      "text/latex": [
       "$\\displaystyle (-171^{ +2}_{-2 }) \\cdot 10^{ -3 }$"
      ],
      "text/plain": [
       "<IPython.core.display.Math object>"
      ]
     },
     "metadata": {},
     "output_type": "display_data"
    },
    {
     "data": {
      "text/markdown": [
       "```latex\n",
       "$(-171^{ +2}_{-2 }) \\cdot 10^{ -3 }$\n",
       "```"
      ],
      "text/plain": [
       "<IPython.core.display.Markdown object>"
      ]
     },
     "metadata": {},
     "output_type": "display_data"
    },
    {
     "name": "stdout",
     "output_type": "stream",
     "text": [
      "Copy 2:\n"
     ]
    },
    {
     "data": {
      "text/latex": [
       "$\\displaystyle (-177^{ +3}_{-2 }) \\cdot 10^{ -3 }$"
      ],
      "text/plain": [
       "<IPython.core.display.Math object>"
      ]
     },
     "metadata": {},
     "output_type": "display_data"
    },
    {
     "data": {
      "text/markdown": [
       "```latex\n",
       "$(-177^{ +3}_{-2 }) \\cdot 10^{ -3 }$\n",
       "```"
      ],
      "text/plain": [
       "<IPython.core.display.Markdown object>"
      ]
     },
     "metadata": {},
     "output_type": "display_data"
    },
    {
     "name": "stdout",
     "output_type": "stream",
     "text": [
      "********\n",
      "Partition: AC_B\n",
      "Copy 1:\n"
     ]
    },
    {
     "data": {
      "text/latex": [
       "$\\displaystyle (-95^{ +2}_{-4 }) \\cdot 10^{ -3 }$"
      ],
      "text/plain": [
       "<IPython.core.display.Math object>"
      ]
     },
     "metadata": {},
     "output_type": "display_data"
    },
    {
     "data": {
      "text/markdown": [
       "```latex\n",
       "$(-95^{ +2}_{-4 }) \\cdot 10^{ -3 }$\n",
       "```"
      ],
      "text/plain": [
       "<IPython.core.display.Markdown object>"
      ]
     },
     "metadata": {},
     "output_type": "display_data"
    },
    {
     "name": "stdout",
     "output_type": "stream",
     "text": [
      "Copy 2:\n"
     ]
    },
    {
     "data": {
      "text/latex": [
       "$\\displaystyle (-94^{ +3}_{-3 }) \\cdot 10^{ -3 }$"
      ],
      "text/plain": [
       "<IPython.core.display.Math object>"
      ]
     },
     "metadata": {},
     "output_type": "display_data"
    },
    {
     "data": {
      "text/markdown": [
       "```latex\n",
       "$(-94^{ +3}_{-3 }) \\cdot 10^{ -3 }$\n",
       "```"
      ],
      "text/plain": [
       "<IPython.core.display.Markdown object>"
      ]
     },
     "metadata": {},
     "output_type": "display_data"
    }
   ],
   "source": [
    "print(\"PPT 1\")\n",
    "seeds_ppts_1 = {}\n",
    "seeds_ppts_2 = {}\n",
    "for pt in partitions:\n",
    "    seeds_ppts_1[pt] = ppt(rho_exp_024, pt)\n",
    "    print(seeds_ppts_1[pt], pt.name)\n",
    "print('-------------')\n",
    "print(\"PPT 2\")\n",
    "for pt in partitions:\n",
    "    seeds_ppts_2[pt] = ppt(rho_exp_531, pt)\n",
    "    print(seeds_ppts_2[pt], pt.name)\n",
    "print(\"----------\")\n",
    "\n",
    "for pt in partitions:\n",
    "    print(\"********\")\n",
    "    print(\"Partition:\", pt.name)\n",
    "\n",
    "    print(\"Copy 1:\")\n",
    "    _ppts_1 = np.array([ppt(r, pt) for r in rhos_single_copy_024_summed])\n",
    "    _ppt_1_stat = aggregated_result.from_array(_ppts_1)\n",
    "    _ppt_1_stat.display_in_notebook_q(seeds_ppts_1[pt])\n",
    "\n",
    "    print(\"Copy 2:\")\n",
    "    _ppts_2 = np.array([ppt(r, pt) for r in rhos_single_copy_531_summed])\n",
    "    _ppt_2_stat = aggregated_result.from_array(_ppts_2)\n",
    "    _ppt_2_stat.display_in_notebook_q(seeds_ppts_2[pt])\n",
    "\n"
   ]
  },
  {
   "cell_type": "markdown",
   "id": "4244e98e",
   "metadata": {},
   "source": [
    "see witnessing-two-copy-gme.html for single-copy witness values"
   ]
  }
 ],
 "metadata": {
  "kernelspec": {
   "display_name": "base",
   "language": "python",
   "name": "python3"
  },
  "language_info": {
   "codemirror_mode": {
    "name": "ipython",
    "version": 3
   },
   "file_extension": ".py",
   "mimetype": "text/x-python",
   "name": "python",
   "nbconvert_exporter": "python",
   "pygments_lexer": "ipython3",
   "version": "3.9.13"
  }
 },
 "nbformat": 4,
 "nbformat_minor": 5
}
